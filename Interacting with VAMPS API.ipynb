{
 "cells": [
  {
   "cell_type": "markdown",
   "metadata": {},
   "source": [
    "<h1>Interacting with the VAMPS-API</h1>\n",
    "<h2>This notebook:</h2>\n",
    "<ul>\n",
    "<li><strong>Logs into VAMPS account </strong> if you don't have an account, use guest account (Username: 'guest', Password: 'guest')</li>\n",
    "<li><strong>Uses a config file</strong></li>\n",
    "Either specify an existing config file to use <strong>OR</strong> edit 'config' in the code below to match your preferences\n",
    "<li><strong>Gets dataset ID's for specified dataset</strong></li>\n",
    "<li><strong>Displays specified visualization</strong></li>\n",
    "<li><strong>Saves visualization locally to your computer</strong></li>\n",
    "<li><strong>Can upload config to VAMPS for later use</strong></li>\n",
    "</ul>\n",
    "<h2>To use this notebook:</h2>\n",
    "<ul><strong><li>Press run cell button</li>\n",
    "<li>Enter information if promtped</li>\n",
    "<li>Do not run the next cell if the previous cell has an asterisk next to \"In\" (\"In [*]:\"), this means it is still processing</li>\n",
    "<li>When the asterisk turns into any number, you can run the next cell</li></strong></ul>"
   ]
  },
  {
   "cell_type": "markdown",
   "metadata": {},
   "source": [
    "<h3>Import relevant python packages; Allow both Python 2 and 3</h3>"
   ]
  },
  {
   "cell_type": "code",
   "execution_count": null,
   "metadata": {
    "collapsed": true
   },
   "outputs": [],
   "source": [
    "\"\"\"\n",
    "Author: AAV / SR\n",
    "vamps2.mbl.edu\n",
    "\"\"\"\n",
    "\n",
    "import os,sys\n",
    "import requests\n",
    "from bs4 import BeautifulSoup   # parser for html\n",
    "import json, string, getpass\n",
    "\n",
    "#to allow both Python 2 and 3\n",
    "try:\n",
    "    input = raw_input  \n",
    "except NameError: #Python 3\n",
    "    pass\n"
   ]
  },
  {
   "cell_type": "markdown",
   "metadata": {},
   "source": [
    "<h3>Gets VAMPS username and password, then attempts login to VAMPS</h3>"
   ]
  },
  {
   "cell_type": "code",
   "execution_count": null,
   "metadata": {},
   "outputs": [],
   "source": [
    "#get VAMPS username and password\n",
    "user = input(\"Enter your VAMPS username: \")\n",
    "pw = getpass.getpass(\"Enter your VAMPS password: \")\n",
    "\n",
    "conn = {'user': user,\n",
    "        'passwd': pw,\n",
    "         # vamps:             https://vamps2.mbl.edu\n",
    "         # vampsdev (private) http://vampsdev.jbpc-np.mbl.edu:8124 \n",
    "         # localhost:         http://localhost:3000 \n",
    "        'hosturl':'https://vamps2.mbl.edu'\n",
    "       }\n",
    "\n",
    "#attempt login to VAMPS\n",
    "s = requests.Session()\n",
    "r = s.post(conn['hosturl']+'/users/login', data={'username':conn['user'], 'password':conn['passwd']})"
   ]
  },
  {
   "cell_type": "markdown",
   "metadata": {},
   "source": [
    "<h3>If username/password is incorrect, exit program</h3>"
   ]
  },
  {
   "cell_type": "code",
   "execution_count": null,
   "metadata": {},
   "outputs": [],
   "source": [
    "#exit program if login unsuccessful\n",
    "if r.url == 'https://vamps2.mbl.edu/users/login':\n",
    "    sys.exit('Login not successful')\n",
    "elif r.url == 'https://vamps2.mbl.edu/':\n",
    "    print('Login successful')"
   ]
  },
  {
   "cell_type": "markdown",
   "metadata": {},
   "source": [
    "<h3>Option to upload an existing config file</h3>"
   ]
  },
  {
   "cell_type": "code",
   "execution_count": null,
   "metadata": {},
   "outputs": [],
   "source": [
    "upload = input(\"Do you want to use an already existing config file? ('Y' or 'N'): \")\n",
    "\n",
    "#to upload config: \n",
    "if upload[0].capitalize() == \"Y\":\n",
    "    file = input('Enter JSON Config File: ')\n",
    "    with open(file) as f:        \n",
    "        config = json.load(f)\n",
    "else:\n",
    "    print(\"Edit 'config' below to match preferences before running cell\")"
   ]
  },
  {
   "cell_type": "markdown",
   "metadata": {},
   "source": [
    "<h3>If no config file was uploaded, edit 'config' *before* you run the cell. The comments show the options for each value.</h3>"
   ]
  },
  {
   "cell_type": "code",
   "execution_count": null,
   "metadata": {},
   "outputs": [],
   "source": [
    "if upload == \"N\":\n",
    "    #edit config, comments next to values show allowed different options\n",
    "    config = {\n",
    "        \"api\":\"1\",\n",
    "        \"source\":\"VAMPS-API\",\n",
    "        \"update_data\":1,\n",
    "        \"normalization\":\"none\",              # none, maximum, frequency\n",
    "        \"selected_distance\":\"jaccard\",  # morisita-horn, jaccard, kulczynski, canberra bray-curtis\n",
    "        \"tax_depth\":\"klass\",                 # domain, phylum, klass, order, family, genus, species, strain\n",
    "        \"domains\":[\"Archaea\",\"Bacteria\",\"Eukarya\",\"Organelle\",\"Unknown\"],   #[\"Archaea\",\"Bacteria\",\"Eukarya\",\"Organelle\",\"Unknown\"],\n",
    "        \"include_nas\":\"yes\",                  # yes or no\n",
    "        \"min_range\":0,                        # integer 0-99\n",
    "        \"max_range\":100,                      # integer 1-100\n",
    "\n",
    "          # Must be a valid project - with correct permissions for the above user.\n",
    "        'project':'DCO_MAC_Bv6',   \n",
    "\n",
    "          # Currently avalable: \"dheatmap\", \"piecharts\", \"barcharts\", \"counts_matrix\", \"metadata_csv\", \"adiversity\", \"fheatmap\", \"dendrogram\" \n",
    "        'image':'fheatmap'\n",
    "    }"
   ]
  },
  {
   "cell_type": "markdown",
   "metadata": {},
   "source": [
    "<h3>Get and display project IDs</h3>"
   ]
  },
  {
   "cell_type": "code",
   "execution_count": null,
   "metadata": {},
   "outputs": [],
   "source": [
    "# get project ids:\n",
    "r = s.post(conn['hosturl']+'/api/get_dids_from_project', timeout=15, data=config)  \n",
    "config['ds_order'] = r.text\n",
    "print(config['ds_order'])"
   ]
  },
  {
   "cell_type": "markdown",
   "metadata": {},
   "source": [
    "<h3>Create remote configuration and get timestamp (file_prefix)</h3>"
   ]
  },
  {
   "cell_type": "code",
   "execution_count": null,
   "metadata": {
    "collapsed": true
   },
   "outputs": [],
   "source": [
    "# Get timestamp (filename prefix):\n",
    "r = s.post(conn['hosturl']+'/visuals/view_selection', timeout=15, data=config)\n",
    "soup = BeautifulSoup(r.text, \"lxml\")  # html5lib  lxml html.parser\n",
    "\n",
    "ts = soup.find(id=\"ts_for_bs\").string"
   ]
  },
  {
   "cell_type": "markdown",
   "metadata": {},
   "source": [
    "<h3>Save matrix file which is integral to VAMPS images</h3>"
   ]
  },
  {
   "cell_type": "code",
   "execution_count": null,
   "metadata": {},
   "outputs": [],
   "source": [
    "import json\n",
    "biom_matrix_file = ts+'_count_matrix.biom'\n",
    "url = conn['hosturl']+\"/\"+biom_matrix_file\n",
    "response = requests.get(url, stream=True)\n",
    "response.raise_for_status()\n",
    "out_file = biom_matrix_file\n",
    "with open(out_file, \"wb\") as handle:\n",
    "    for block in response.iter_content(1024):\n",
    "        handle.write(block)"
   ]
  },
  {
   "cell_type": "markdown",
   "metadata": {},
   "source": [
    "<h3>Save image file</h3>"
   ]
  },
  {
   "cell_type": "code",
   "execution_count": null,
   "metadata": {},
   "outputs": [],
   "source": [
    "r = s.post(conn['hosturl']+'/api/create_image', timeout=30, data=config)\n",
    "\n",
    "try:\n",
    "    result = json.loads(r.text)\n",
    "except:\n",
    "    print(r.text)\n",
    "    sys.exit()\n",
    "local_filename = result['filename']\n",
    "return_result = result['html']\n",
    "print(local_filename)\n",
    "remote_file_name = conn['hosturl']+\"/\"+local_filename\n",
    "\n",
    "r = requests.get(remote_file_name, stream=True)\n",
    "with open(local_filename, 'wb') as f:\n",
    "    f.write(r.content)\n",
    "print('Done writing local file:',local_filename)"
   ]
  },
  {
   "cell_type": "markdown",
   "metadata": {},
   "source": [
    "<h3>Option to upload config file to VAMPS for later use</h3>"
   ]
  },
  {
   "cell_type": "code",
   "execution_count": null,
   "metadata": {},
   "outputs": [],
   "source": [
    "upload_to_vamps = input(\"Do you want to upload config file to VAMPS for later use?('Y' or 'N'): \")\n",
    "if upload_to_vamps[0].capitalize() == 'Y':\n",
    "    dataset_ids = config['ds_order'].strip('[')\n",
    "    dataset_ids = dataset_ids.strip(']')\n",
    "    dataset_ids = dataset_ids.split(',')\n",
    "    vamps_config = {\n",
    "      \"source\":\"VAMPS\",\n",
    "      \"image\":config['image'],\n",
    "      \"post_items\":\n",
    "      { \n",
    "        \"normalization\":config['normalization'],\n",
    "        \"selected_distance\":config['selected_distance'],\n",
    "        \"tax_depth\":config['tax_depth'],\n",
    "        \"domains\":config['domains'],\n",
    "        \"include_nas\":config['include_nas'],\n",
    "        \"min_range\":config['min_range'],\n",
    "        \"max_range\":config['max_range']\n",
    "      },\n",
    "        \"id_name_hash\":\n",
    "        {\n",
    "          \"ids\":dataset_ids\n",
    "        }\n",
    "    }\n",
    "    upload = {\n",
    "    'upload_files': json.dumps(vamps_config)\n",
    "    }\n",
    "    data = {\n",
    "    'from_upload_configuration_file' : '1'\n",
    "    }\n",
    "    r = s.post('https://vamps2.mbl.edu/visuals/view_selection', data=data,files=upload)"
   ]
  },
  {
   "cell_type": "markdown",
   "metadata": {},
   "source": [
    "<h3>Show image (if chosen image is implemented)</h3>"
   ]
  },
  {
   "cell_type": "code",
   "execution_count": null,
   "metadata": {},
   "outputs": [],
   "source": [
    "ready_images = [\"dheatmap\", \"piecharts\", \"barcharts\", \"counts_matrix\", \"metadata_csv\", \"adiversity\", \"fheatmap\", \"dendrogram\" ]\n",
    "\n",
    "from IPython.core.display import display, HTML\n",
    "out = ''\n",
    "if config['image'] in ready_images:\n",
    "    if config['image'] == 'metadata_csv':\n",
    "        print(return_result)\n",
    "    else:\n",
    "        out = HTML(\"<style>.container { width:100% !important; }</style>\"+return_result)\n",
    "else:\n",
    "    out = 'not implemented yet'\n",
    "out"
   ]
  }
 ],
 "metadata": {
  "anaconda-cloud": {},
  "kernelspec": {
   "display_name": "Python 3",
   "language": "python",
   "name": "python3"
  },
  "language_info": {
   "codemirror_mode": {
    "name": "ipython",
    "version": 3
   },
   "file_extension": ".py",
   "mimetype": "text/x-python",
   "name": "python",
   "nbconvert_exporter": "python",
   "pygments_lexer": "ipython3",
   "version": "3.6.0"
  }
 },
 "nbformat": 4,
 "nbformat_minor": 1
}
