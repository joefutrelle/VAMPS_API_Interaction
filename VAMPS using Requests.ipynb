{
 "cells": [
  {
   "cell_type": "code",
   "execution_count": 37,
   "metadata": {
    "scrolled": true
   },
   "outputs": [
    {
     "name": "stdout",
     "output_type": "stream",
     "text": [
      "Enter your VAMPS username: ruzics\n",
      "Enter your VAMPS password: ········\n",
      "Enter the Dataset IDs you wish to view: \"5926\",\"5927\",\"5928\",\"5929\",\"5930\",\"5931\",\"5932\",\"5933\",\"5934\",\"5935\",\"5936\",\"5937\",\"5938\",\"5939\",\"5940\",\"5941\"\n",
      "Enter image to display (\"dheatmap\", \"piecharts\", \"barcharts\", \"counts_matrix\", \"metadata_table\", \"fheatmap\", \"dendrogram01\", \"dendrogram03\", \"pcoa\", \"pcoa3d\", \"geospatial\", \"adiversity\", \"none\"): barcharts\n",
      "Enter JSON Config File: test_config.json\n"
     ]
    }
   ],
   "source": [
    "import requests, json, string, getpass\n",
    "\n",
    "user = input(\"Enter your VAMPS username: \")\n",
    "pw = getpass.getpass(\"Enter your VAMPS password: \")\n",
    "\n",
    "login = {\n",
    "    'username': user,\n",
    "    'password': pw\n",
    "}\n",
    "\n",
    "#log into VAMPS\n",
    "s = requests.Session() \n",
    "r = s.post('https://vamps2.mbl.edu/users/login', data=login)\n",
    "\n",
    "new_data = input(\"Enter the Dataset IDs you wish to view: \")\n",
    "image = input('Enter image to display (\"dheatmap\", \"piecharts\", \"barcharts\", \"counts_matrix\", \"metadata_table\", \"fheatmap\", \"dendrogram01\", \"dendrogram03\", \"pcoa\", \"pcoa3d\", \"geospatial\", \"adiversity\", \"none\"): ')\n",
    "file = input('Enter JSON Config File: ')\n",
    "\n",
    "for ch in string.punctuation:\n",
    "    new_data = new_data.replace(ch, \" \")\n",
    "new_data = list(new_data.split(\" \"))\n",
    "new_data = list(filter(None, new_data))"
   ]
  },
  {
   "cell_type": "code",
   "execution_count": 38,
   "metadata": {},
   "outputs": [],
   "source": [
    "with open(file) as f:\n",
    "    config_string = json.load(f)\n",
    "\n",
    "#change config file to match new image/dataset \n",
    "if 'names' in config_string['id_name_hash']:\n",
    "    del config_string['id_name_hash']['names']\n",
    "config_string['image'] = image\n",
    "config_string['id_name_hash']['ids'] = new_data\n",
    "\n",
    "#rewrite config file\n",
    "with open(file,'w') as f:\n",
    "    f.write(json.dumps(config_string))"
   ]
  },
  {
   "cell_type": "code",
   "execution_count": 39,
   "metadata": {
    "collapsed": true
   },
   "outputs": [],
   "source": [
    "#now that dataset is changed, upload config to VAMPS\n",
    "upload = {\n",
    "    'upload_files': open('test_config.json')\n",
    "}\n",
    "data = {\n",
    "    'from_upload_configuration_file' : '1'\n",
    "}\n",
    "\n",
    "r = s.post('https://vamps2.mbl.edu/visuals/view_selection', data=data,files=upload)"
   ]
  },
  {
   "cell_type": "code",
   "execution_count": null,
   "metadata": {
    "collapsed": true
   },
   "outputs": [],
   "source": []
  }
 ],
 "metadata": {
  "kernelspec": {
   "display_name": "Python 3",
   "language": "python",
   "name": "python3"
  },
  "language_info": {
   "codemirror_mode": {
    "name": "ipython",
    "version": 3
   },
   "file_extension": ".py",
   "mimetype": "text/x-python",
   "name": "python",
   "nbconvert_exporter": "python",
   "pygments_lexer": "ipython3",
   "version": "3.6.0"
  }
 },
 "nbformat": 4,
 "nbformat_minor": 2
}
