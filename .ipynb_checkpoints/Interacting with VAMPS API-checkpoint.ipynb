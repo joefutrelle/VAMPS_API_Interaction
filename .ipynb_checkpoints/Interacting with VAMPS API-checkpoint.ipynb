{
 "cells": [
  {
   "cell_type": "markdown",
   "metadata": {},
   "source": [
    "<h1>Interacting with the VAMPS-API</h1>\n",
    "<h2>This notebook:</h2>\n",
    "<ul>\n",
    "<li><strong>Logs into VAMPS account </strong> if you don't have an account, use guest account (Username: 'guest', Password: 'guest')</li>\n",
    "<li><strong>Uses a config file</strong></li>\n",
    "Either specify an existing config file to use <strong>OR</strong> edit 'config' in the code below to match your preferences\n",
    "<li><strong>Gets dataset ID's for specified dataset</strong></li>\n",
    "<li><strong>Displays specified visualization</strong></li>\n",
    "<li><strong>Saves visualization locally to your computer</strong></li>\n",
    "<li><strong>Can upload config to VAMPS for later use</strong></li>\n",
    "</ul>\n",
    "<h2>To use this notebook:</h2>\n",
    "<ul><strong><li>Press run cell button</li>\n",
    "<li>Enter information if promtped</li>\n",
    "<li>Do not run the next cell if the previous cell has an asterisk next to \"In\" (\"In [*]:\"), this means it is still processing</li>\n",
    "<li>When the asterisk turns into any number, you can run the next cell</li></strong></ul>"
   ]
  },
  {
   "cell_type": "markdown",
   "metadata": {},
   "source": [
    "<h3>Import relevant python packages; Allow both Python 2 and 3</h3>"
   ]
  },
  {
   "cell_type": "code",
   "execution_count": 24,
   "metadata": {
    "collapsed": true
   },
   "outputs": [],
   "source": [
    "\"\"\"\n",
    "Author: AAV / SR\n",
    "vamps2.mbl.edu\n",
    "\"\"\"\n",
    "\n",
    "import os,sys\n",
    "import requests\n",
    "from bs4 import BeautifulSoup   # parser for html\n",
    "import json, string, getpass\n",
    "\n",
    "#to allow both Python 2 and 3\n",
    "try:\n",
    "    input = raw_input  \n",
    "except NameError: #Python 3\n",
    "    pass\n"
   ]
  },
  {
   "cell_type": "markdown",
   "metadata": {},
   "source": [
    "<h3>Gets VAMPS username and password, then attempts login to VAMPS</h3>"
   ]
  },
  {
   "cell_type": "code",
   "execution_count": 25,
   "metadata": {},
   "outputs": [
    {
     "name": "stdout",
     "output_type": "stream",
     "text": [
      "Enter your VAMPS username: ruzics\n",
      "Enter your VAMPS password: ········\n"
     ]
    }
   ],
   "source": [
    "#get VAMPS username and password\n",
    "user = input(\"Enter your VAMPS username: \")\n",
    "pw = getpass.getpass(\"Enter your VAMPS password: \")\n",
    "\n",
    "conn = {'user': user,\n",
    "        'passwd': pw,\n",
    "         # vamps:             https://vamps2.mbl.edu\n",
    "         # vampsdev (private) http://vampsdev.jbpc-np.mbl.edu:8124 \n",
    "         # localhost:         http://localhost:3000 \n",
    "        'hosturl':'https://vamps2.mbl.edu'\n",
    "       }\n",
    "\n",
    "#attempt login to VAMPS\n",
    "s = requests.Session()\n",
    "r = s.post(conn['hosturl']+'/users/login', data={'username':conn['user'], 'password':conn['passwd']})"
   ]
  },
  {
   "cell_type": "markdown",
   "metadata": {},
   "source": [
    "<h3>If username/password is incorrect, exit program</h3>"
   ]
  },
  {
   "cell_type": "code",
   "execution_count": 26,
   "metadata": {},
   "outputs": [
    {
     "name": "stdout",
     "output_type": "stream",
     "text": [
      "Login successful\n"
     ]
    }
   ],
   "source": [
    "#exit program if login unsuccessful\n",
    "if r.url == 'https://vamps2.mbl.edu/users/login':\n",
    "    sys.exit('Login not successful')\n",
    "elif r.url == 'https://vamps2.mbl.edu/':\n",
    "    print('Login successful')"
   ]
  },
  {
   "cell_type": "markdown",
   "metadata": {},
   "source": [
    "<h3>Option to upload an existing config file or see list of datasets</h3>"
   ]
  },
  {
   "cell_type": "code",
   "execution_count": 28,
   "metadata": {},
   "outputs": [
    {
     "name": "stdout",
     "output_type": "stream",
     "text": [
      "Do you want to use an already existing config file? ('Y' or 'N'): N\n",
      "Do you want to search through datasets or see all you have access to? ('Y' or 'N'): Y\n",
      "Edit 'config' below to match preferences before running cell\n"
     ]
    }
   ],
   "source": [
    "upload = input(\"Do you want to use an already existing config file? ('Y' or 'N'): \")\n",
    "\n",
    "#to upload config: \n",
    "if upload[0].capitalize() == \"Y\":\n",
    "    file = input('Enter JSON Config File: ')\n",
    "    with open(file) as f:        \n",
    "        config = json.load(f)\n",
    "else:\n",
    "    id_list = input(\"Do you want to search through datasets or see all you have access to? ('Y' or 'N'): \")\n",
    "    print(\"Edit 'config' below to match preferences before running cell\")"
   ]
  },
  {
   "cell_type": "markdown",
   "metadata": {},
   "source": [
    "<h3>Option to search through datasets you have access to or see all</h3>"
   ]
  },
  {
   "cell_type": "code",
   "execution_count": 30,
   "metadata": {},
   "outputs": [
    {
     "name": "stdout",
     "output_type": "stream",
     "text": [
      "Enter dataset you are looking for to get a list of matches, or enter 'all' to see all datasets: RARE\n",
      "Here are your search results: \n",
      "You can use any of these in the 'project' field of config below\n",
      "RARE_EFF_Bv6\n",
      "RARE_EFF_Bv6v4\n",
      "RARE_FPR_Bv6\n",
      "RARE_HMS_Bv6v4\n",
      "RARE_JPA_Bv6\n",
      "RARE_JPA_Bv6v4\n",
      "RARE_LOP_Bv6\n",
      "RARE_LOP_Bv6v4\n",
      "RARE_MBL_Bv6\n",
      "RARE_MBL_Bv6v4\n",
      "RARE_MSF_Bv6\n",
      "RARE_MSF_Bv6v4\n",
      "RARE_NFF_Bv6\n",
      "RARE_NFF_Bv6v4\n",
      "RARE_PACE_Bv6\n",
      "RARE_PACE_Bv6v4\n",
      "RARE_WFF_Bv6\n",
      "RARE_WFF_Bv6v4\n",
      "RARE_WHF_Bv6\n",
      "RARE_WHF_Bv6v4\n",
      "RARE_WPO_Bv6\n",
      "RARE_WPO_Bv6v4\n"
     ]
    }
   ],
   "source": [
    "if id_list[0].capitalize() == \"Y\":\n",
    "    \n",
    "    #use selenium since requests cannot process Javascript on page\n",
    "    from selenium import webdriver\n",
    "    from selenium.webdriver.common.keys import Keys\n",
    "    from selenium.webdriver.common.by import By\n",
    "    from selenium.common.exceptions import TimeoutException\n",
    "    from selenium.webdriver.support import expected_conditions as EC\n",
    "    from selenium.webdriver.support.ui import WebDriverWait\n",
    "    \n",
    "    #open remote browser\n",
    "    browser = webdriver.PhantomJS()\n",
    "    browser.get('https://vamps2.mbl.edu/users/login')\n",
    "    \n",
    "    #log into VAMPS\n",
    "    browser.find_element_by_id(\"username\").send_keys(user)\n",
    "    browser.find_element_by_id(\"password\").send_keys(pw)\n",
    "    browser.find_element_by_id(\"password\").submit();\n",
    "    \n",
    "    #get ID selection page\n",
    "    browser.get('https://vamps2.mbl.edu/visuals/visuals_index')\n",
    "    \n",
    "    #wait for ID sets to load\n",
    "    timeout = 30\n",
    "    element_present = EC.presence_of_element_located((By.ID, \"project/AB_SAND_Bv6/Microbial populations in sand/public\"))\n",
    "    WebDriverWait(browser, timeout).until(element_present)\n",
    "    #print(browser.page_source)\n",
    "\n",
    "    #make a list of all dataset objects\n",
    "    elements = browser.find_elements_by_class_name(\"tooltip_pjds_list\")\n",
    "    \n",
    "    search = input(\"Enter dataset you are looking for to get a list of matches, or enter 'all' to see all datasets: \")\n",
    "    search = search.upper()\n",
    "    if search == 'ALL':\n",
    "        print(\"Here is a list of datasets you have access to: \")\n",
    "        for element in elements:\n",
    "            print(element.text)\n",
    "    else:\n",
    "        print(\"Here are your search results: \")\n",
    "        print(\"You can use any of these in the 'project' field of config below\")\n",
    "        for element in elements:\n",
    "            if search in element.text:\n",
    "                print(element.text)\n",
    "        \n",
    "    "
   ]
  },
  {
   "cell_type": "markdown",
   "metadata": {},
   "source": [
    "<h3>If no config file was uploaded, edit 'config' *before* you run the cell. The comments show the options for each value.</h3>"
   ]
  },
  {
   "cell_type": "code",
   "execution_count": 31,
   "metadata": {
    "collapsed": true
   },
   "outputs": [],
   "source": [
    "if upload == \"N\":\n",
    "    #edit config, comments next to values show allowed different options\n",
    "    config = {\n",
    "        \"api\":\"1\",\n",
    "        \"source\":\"VAMPS-API\",\n",
    "        \"update_data\":1,\n",
    "        \"normalization\":\"none\",              # none, maximum, frequency\n",
    "        \"selected_distance\":\"jaccard\",  # morisita-horn, jaccard, kulczynski, canberra bray-curtis\n",
    "        \"tax_depth\":\"klass\",                 # domain, phylum, klass, order, family, genus, species, strain\n",
    "        \"domains\":[\"Archaea\",\"Bacteria\",\"Eukarya\",\"Organelle\",\"Unknown\"],   #[\"Archaea\",\"Bacteria\",\"Eukarya\",\"Organelle\",\"Unknown\"],\n",
    "        \"include_nas\":\"yes\",                  # yes or no\n",
    "        \"min_range\":0,                        # integer 0-99\n",
    "        \"max_range\":100,                      # integer 1-100\n",
    "\n",
    "          # Must be a valid project - with correct permissions for the above user.\n",
    "        'project':'RARE_WFF_Bv6',   \n",
    "\n",
    "          # Currently avalable: \"dheatmap\", \"piecharts\", \"barcharts\", \"counts_matrix\", \"metadata_csv\", \"adiversity\", \"fheatmap\", \"dendrogram\" \n",
    "        'image':'dheatmap'\n",
    "    }"
   ]
  },
  {
   "cell_type": "markdown",
   "metadata": {},
   "source": [
    "<h3>Get and display project IDs</h3>"
   ]
  },
  {
   "cell_type": "code",
   "execution_count": 32,
   "metadata": {},
   "outputs": [
    {
     "name": "stdout",
     "output_type": "stream",
     "text": [
      "[275678,275679,275680,275681,275682,275683,275684,275685,275686,275687,275688]\n"
     ]
    }
   ],
   "source": [
    "# get project ids:\n",
    "r = s.post(conn['hosturl']+'/api/get_dids_from_project', timeout=15, data=config)  \n",
    "config['ds_order'] = r.text\n",
    "print(config['ds_order'])"
   ]
  },
  {
   "cell_type": "markdown",
   "metadata": {},
   "source": [
    "<h3>Create remote configuration and get timestamp (file_prefix)</h3>"
   ]
  },
  {
   "cell_type": "code",
   "execution_count": 33,
   "metadata": {
    "collapsed": true
   },
   "outputs": [],
   "source": [
    "# Get timestamp (filename prefix):\n",
    "r = s.post(conn['hosturl']+'/visuals/view_selection', timeout=15, data=config)\n",
    "soup = BeautifulSoup(r.text, \"lxml\")  # html5lib  lxml html.parser\n",
    "\n",
    "ts = soup.find(id=\"ts_for_bs\").string"
   ]
  },
  {
   "cell_type": "markdown",
   "metadata": {},
   "source": [
    "<h3>Save matrix file which is integral to VAMPS images</h3>"
   ]
  },
  {
   "cell_type": "code",
   "execution_count": 34,
   "metadata": {
    "collapsed": true
   },
   "outputs": [],
   "source": [
    "import json\n",
    "biom_matrix_file = ts+'_count_matrix.biom'\n",
    "url = conn['hosturl']+\"/\"+biom_matrix_file\n",
    "response = requests.get(url, stream=True)\n",
    "response.raise_for_status()\n",
    "out_file = biom_matrix_file\n",
    "with open(out_file, \"wb\") as handle:\n",
    "    for block in response.iter_content(1024):\n",
    "        handle.write(block)"
   ]
  },
  {
   "cell_type": "markdown",
   "metadata": {},
   "source": [
    "<h3>Save image file</h3>"
   ]
  },
  {
   "cell_type": "code",
   "execution_count": 35,
   "metadata": {},
   "outputs": [
    {
     "name": "stdout",
     "output_type": "stream",
     "text": [
      "ruzics_1501258511520-dheatmap-api.html\n",
      "Done writing local file: ruzics_1501258511520-dheatmap-api.html\n"
     ]
    }
   ],
   "source": [
    "r = s.post(conn['hosturl']+'/api/create_image', timeout=30, data=config)\n",
    "\n",
    "try:\n",
    "    result = json.loads(r.text)\n",
    "except:\n",
    "    print(r.text)\n",
    "    sys.exit()\n",
    "local_filename = result['filename']\n",
    "return_result = result['html']\n",
    "print(local_filename)\n",
    "remote_file_name = conn['hosturl']+\"/\"+local_filename\n",
    "\n",
    "r = requests.get(remote_file_name, stream=True)\n",
    "with open(local_filename, 'wb') as f:\n",
    "    f.write(r.content)\n",
    "print('Done writing local file:',local_filename)"
   ]
  },
  {
   "cell_type": "markdown",
   "metadata": {},
   "source": [
    "<h3>Option to upload config file to VAMPS for later use</h3>"
   ]
  },
  {
   "cell_type": "code",
   "execution_count": 36,
   "metadata": {},
   "outputs": [
    {
     "name": "stdout",
     "output_type": "stream",
     "text": [
      "Do you want to upload config file to VAMPS for later use?('Y' or 'N'): N\n"
     ]
    }
   ],
   "source": [
    "upload_to_vamps = input(\"Do you want to upload config file to VAMPS for later use?('Y' or 'N'): \")\n",
    "if upload_to_vamps[0].capitalize() == 'Y':\n",
    "    dataset_ids = config['ds_order'].strip('[')\n",
    "    dataset_ids = dataset_ids.strip(']')\n",
    "    dataset_ids = dataset_ids.split(',')\n",
    "    vamps_config = {\n",
    "      \"source\":\"VAMPS\",\n",
    "      \"image\":config['image'],\n",
    "      \"post_items\":\n",
    "      { \n",
    "        \"normalization\":config['normalization'],\n",
    "        \"selected_distance\":config['selected_distance'],\n",
    "        \"tax_depth\":config['tax_depth'],\n",
    "        \"domains\":config['domains'],\n",
    "        \"include_nas\":config['include_nas'],\n",
    "        \"min_range\":config['min_range'],\n",
    "        \"max_range\":config['max_range']\n",
    "      },\n",
    "        \"id_name_hash\":\n",
    "        {\n",
    "          \"ids\":dataset_ids\n",
    "        }\n",
    "    }\n",
    "    upload = {\n",
    "    'upload_files': json.dumps(vamps_config)\n",
    "    }\n",
    "    data = {\n",
    "    'from_upload_configuration_file' : '1'\n",
    "    }\n",
    "    r = s.post('https://vamps2.mbl.edu/visuals/view_selection', data=data,files=upload)"
   ]
  },
  {
   "cell_type": "markdown",
   "metadata": {},
   "source": [
    "<h3>Show image (if chosen image is implemented)</h3>"
   ]
  },
  {
   "cell_type": "code",
   "execution_count": 37,
   "metadata": {},
   "outputs": [
    {
     "data": {
      "text/html": [
       "<style>.container { width:100% !important; }</style><center><form name='save_ds_order_form' id='' class='' method='POST' action='/visuals/view_selection'><table border='1' id='drag_table' class='heatmap_table center_table' ><tr class='nodrag nodrop' style='line-height:11px;'><td></td><td><div id='ds_save_order_div'><span class='' style='color:white;background:blue' >Similar (0.0)</span> <span class='' style='background:red' >Dissimilar (1.0)</span>\t\t  <imput type='hidden' id='' name='resorted' value='1' >\t  </div></td><td><div class='cell'></div></td><td><div class='cell'></div></td><td><div class='cell'></div></td><td><div class='cell'></div></td><td><div class='cell'></div></td><td><div class='cell'></div></td><td><div class='cell'></div></td><td><div class='cell'></div></td><td><div class='cell'></div></td><td><div class='cell'></div></td><td><div class='cell'></div></td></tr><tr id='RARE_WFF_Bv6--WFF_20090112' style='line-height:11px;'><td  id='RARE_WFF_Bv6--WFF_20090112' class='dragHandle ds_cell'>1</td><td class='dragHandle ds_cell' ><input type='hidden' name='ds_order[]' value='275678' >RARE_WFF_Bv6--WFF_20090112</td><td id='' class='heat_map_td' bgcolor='#000'></td><td title='RARE_WFF_Bv6--WFF_20090112&#13;RARE_WFF_Bv6--WFF_20090209&#13;jaccard -- 0.39655' class='heat_map_td' bgcolor='#ccccff'</td><td title='RARE_WFF_Bv6--WFF_20090112&#13;RARE_WFF_Bv6--WFF_20090309&#13;jaccard -- 0.33333' class='heat_map_td' bgcolor='#aaaaff'</td><td title='RARE_WFF_Bv6--WFF_20090112&#13;RARE_WFF_Bv6--WFF_20090413&#13;jaccard -- 0.29630' class='heat_map_td' bgcolor='#9999ff'</td><td title='RARE_WFF_Bv6--WFF_20090112&#13;RARE_WFF_Bv6--WFF_20090511&#13;jaccard -- 0.52830' class='heat_map_td' bgcolor='#eeeedd'</td><td title='RARE_WFF_Bv6--WFF_20090112&#13;RARE_WFF_Bv6--WFF_20090608&#13;jaccard -- 0.55319' class='heat_map_td' bgcolor='#eeeedd'</td><td title='RARE_WFF_Bv6--WFF_20090112&#13;RARE_WFF_Bv6--WFF_20090714&#13;jaccard -- 0.39683' class='heat_map_td' bgcolor='#ccccff'</td><td title='RARE_WFF_Bv6--WFF_20090112&#13;RARE_WFF_Bv6--WFF_20090810&#13;jaccard -- 0.35714' class='heat_map_td' bgcolor='#aaaaff'</td><td title='RARE_WFF_Bv6--WFF_20090112&#13;RARE_WFF_Bv6--WFF_20090914&#13;jaccard -- 0.46296' class='heat_map_td' bgcolor='#ddeeee'</td><td title='RARE_WFF_Bv6--WFF_20090112&#13;RARE_WFF_Bv6--WFF_20091109&#13;jaccard -- 0.34615' class='heat_map_td' bgcolor='#aaaaff'</td><td title='RARE_WFF_Bv6--WFF_20090112&#13;RARE_WFF_Bv6--WFF_20091214&#13;jaccard -- 0.57692' class='heat_map_td' bgcolor='#ffdddd'</td></tr><tr id='RARE_WFF_Bv6--WFF_20090209' style='line-height:11px;'><td  id='RARE_WFF_Bv6--WFF_20090209' class='dragHandle ds_cell'>2</td><td class='dragHandle ds_cell' ><input type='hidden' name='ds_order[]' value='275679' >RARE_WFF_Bv6--WFF_20090209</td><td title='RARE_WFF_Bv6--WFF_20090209&#13;RARE_WFF_Bv6--WFF_20090112&#13;jaccard -- 0.39655' class='heat_map_td' bgcolor='#ccccff'</td><td id='' class='heat_map_td' bgcolor='#000'></td><td title='RARE_WFF_Bv6--WFF_20090209&#13;RARE_WFF_Bv6--WFF_20090309&#13;jaccard -- 0.35185' class='heat_map_td' bgcolor='#aaaaff'</td><td title='RARE_WFF_Bv6--WFF_20090209&#13;RARE_WFF_Bv6--WFF_20090413&#13;jaccard -- 0.28302' class='heat_map_td' bgcolor='#9999ff'</td><td title='RARE_WFF_Bv6--WFF_20090209&#13;RARE_WFF_Bv6--WFF_20090511&#13;jaccard -- 0.36170' class='heat_map_td' bgcolor='#aaaaff'</td><td title='RARE_WFF_Bv6--WFF_20090209&#13;RARE_WFF_Bv6--WFF_20090608&#13;jaccard -- 0.60417' class='heat_map_td' bgcolor='#ffdddd'</td><td title='RARE_WFF_Bv6--WFF_20090209&#13;RARE_WFF_Bv6--WFF_20090714&#13;jaccard -- 0.43750' class='heat_map_td' bgcolor='#ddeeee'</td><td title='RARE_WFF_Bv6--WFF_20090209&#13;RARE_WFF_Bv6--WFF_20090810&#13;jaccard -- 0.37500' class='heat_map_td' bgcolor='#ccccff'</td><td title='RARE_WFF_Bv6--WFF_20090209&#13;RARE_WFF_Bv6--WFF_20090914&#13;jaccard -- 0.45283' class='heat_map_td' bgcolor='#ddeeee'</td><td title='RARE_WFF_Bv6--WFF_20090209&#13;RARE_WFF_Bv6--WFF_20091109&#13;jaccard -- 0.42593' class='heat_map_td' bgcolor='#ccccff'</td><td title='RARE_WFF_Bv6--WFF_20090209&#13;RARE_WFF_Bv6--WFF_20091214&#13;jaccard -- 0.51020' class='heat_map_td' bgcolor='#eeeedd'</td></tr><tr id='RARE_WFF_Bv6--WFF_20090309' style='line-height:11px;'><td  id='RARE_WFF_Bv6--WFF_20090309' class='dragHandle ds_cell'>3</td><td class='dragHandle ds_cell' ><input type='hidden' name='ds_order[]' value='275680' >RARE_WFF_Bv6--WFF_20090309</td><td title='RARE_WFF_Bv6--WFF_20090309&#13;RARE_WFF_Bv6--WFF_20090112&#13;jaccard -- 0.33333' class='heat_map_td' bgcolor='#aaaaff'</td><td title='RARE_WFF_Bv6--WFF_20090309&#13;RARE_WFF_Bv6--WFF_20090209&#13;jaccard -- 0.35185' class='heat_map_td' bgcolor='#aaaaff'</td><td id='' class='heat_map_td' bgcolor='#000'></td><td title='RARE_WFF_Bv6--WFF_20090309&#13;RARE_WFF_Bv6--WFF_20090413&#13;jaccard -- 0.30769' class='heat_map_td' bgcolor='#aaaaff'</td><td title='RARE_WFF_Bv6--WFF_20090309&#13;RARE_WFF_Bv6--WFF_20090511&#13;jaccard -- 0.45833' class='heat_map_td' bgcolor='#ddeeee'</td><td title='RARE_WFF_Bv6--WFF_20090309&#13;RARE_WFF_Bv6--WFF_20090608&#13;jaccard -- 0.60870' class='heat_map_td' bgcolor='#ffdddd'</td><td title='RARE_WFF_Bv6--WFF_20090309&#13;RARE_WFF_Bv6--WFF_20090714&#13;jaccard -- 0.38333' class='heat_map_td' bgcolor='#ccccff'</td><td title='RARE_WFF_Bv6--WFF_20090309&#13;RARE_WFF_Bv6--WFF_20090810&#13;jaccard -- 0.30769' class='heat_map_td' bgcolor='#aaaaff'</td><td title='RARE_WFF_Bv6--WFF_20090309&#13;RARE_WFF_Bv6--WFF_20090914&#13;jaccard -- 0.48077' class='heat_map_td' bgcolor='#ddeeee'</td><td title='RARE_WFF_Bv6--WFF_20090309&#13;RARE_WFF_Bv6--WFF_20091109&#13;jaccard -- 0.42308' class='heat_map_td' bgcolor='#ccccff'</td><td title='RARE_WFF_Bv6--WFF_20090309&#13;RARE_WFF_Bv6--WFF_20091214&#13;jaccard -- 0.60000' class='heat_map_td' bgcolor='#ffdddd'</td></tr><tr id='RARE_WFF_Bv6--WFF_20090413' style='line-height:11px;'><td  id='RARE_WFF_Bv6--WFF_20090413' class='dragHandle ds_cell'>4</td><td class='dragHandle ds_cell' ><input type='hidden' name='ds_order[]' value='275681' >RARE_WFF_Bv6--WFF_20090413</td><td title='RARE_WFF_Bv6--WFF_20090413&#13;RARE_WFF_Bv6--WFF_20090112&#13;jaccard -- 0.29630' class='heat_map_td' bgcolor='#9999ff'</td><td title='RARE_WFF_Bv6--WFF_20090413&#13;RARE_WFF_Bv6--WFF_20090209&#13;jaccard -- 0.28302' class='heat_map_td' bgcolor='#9999ff'</td><td title='RARE_WFF_Bv6--WFF_20090413&#13;RARE_WFF_Bv6--WFF_20090309&#13;jaccard -- 0.30769' class='heat_map_td' bgcolor='#aaaaff'</td><td id='' class='heat_map_td' bgcolor='#000'></td><td title='RARE_WFF_Bv6--WFF_20090413&#13;RARE_WFF_Bv6--WFF_20090511&#13;jaccard -- 0.38298' class='heat_map_td' bgcolor='#ccccff'</td><td title='RARE_WFF_Bv6--WFF_20090413&#13;RARE_WFF_Bv6--WFF_20090608&#13;jaccard -- 0.53333' class='heat_map_td' bgcolor='#eeeedd'</td><td title='RARE_WFF_Bv6--WFF_20090413&#13;RARE_WFF_Bv6--WFF_20090714&#13;jaccard -- 0.32203' class='heat_map_td' bgcolor='#aaaaff'</td><td title='RARE_WFF_Bv6--WFF_20090413&#13;RARE_WFF_Bv6--WFF_20090810&#13;jaccard -- 0.33333' class='heat_map_td' bgcolor='#aaaaff'</td><td title='RARE_WFF_Bv6--WFF_20090413&#13;RARE_WFF_Bv6--WFF_20090914&#13;jaccard -- 0.47170' class='heat_map_td' bgcolor='#ddeeee'</td><td title='RARE_WFF_Bv6--WFF_20090413&#13;RARE_WFF_Bv6--WFF_20091109&#13;jaccard -- 0.38462' class='heat_map_td' bgcolor='#ccccff'</td><td title='RARE_WFF_Bv6--WFF_20090413&#13;RARE_WFF_Bv6--WFF_20091214&#13;jaccard -- 0.56000' class='heat_map_td' bgcolor='#eeeedd'</td></tr><tr id='RARE_WFF_Bv6--WFF_20090511' style='line-height:11px;'><td  id='RARE_WFF_Bv6--WFF_20090511' class='dragHandle ds_cell'>5</td><td class='dragHandle ds_cell' ><input type='hidden' name='ds_order[]' value='275682' >RARE_WFF_Bv6--WFF_20090511</td><td title='RARE_WFF_Bv6--WFF_20090511&#13;RARE_WFF_Bv6--WFF_20090112&#13;jaccard -- 0.52830' class='heat_map_td' bgcolor='#eeeedd'</td><td title='RARE_WFF_Bv6--WFF_20090511&#13;RARE_WFF_Bv6--WFF_20090209&#13;jaccard -- 0.36170' class='heat_map_td' bgcolor='#aaaaff'</td><td title='RARE_WFF_Bv6--WFF_20090511&#13;RARE_WFF_Bv6--WFF_20090309&#13;jaccard -- 0.45833' class='heat_map_td' bgcolor='#ddeeee'</td><td title='RARE_WFF_Bv6--WFF_20090511&#13;RARE_WFF_Bv6--WFF_20090413&#13;jaccard -- 0.38298' class='heat_map_td' bgcolor='#ccccff'</td><td id='' class='heat_map_td' bgcolor='#000'></td><td title='RARE_WFF_Bv6--WFF_20090511&#13;RARE_WFF_Bv6--WFF_20090608&#13;jaccard -- 0.47059' class='heat_map_td' bgcolor='#ddeeee'</td><td title='RARE_WFF_Bv6--WFF_20090511&#13;RARE_WFF_Bv6--WFF_20090714&#13;jaccard -- 0.48214' class='heat_map_td' bgcolor='#ddeeee'</td><td title='RARE_WFF_Bv6--WFF_20090511&#13;RARE_WFF_Bv6--WFF_20090810&#13;jaccard -- 0.41667' class='heat_map_td' bgcolor='#ccccff'</td><td title='RARE_WFF_Bv6--WFF_20090511&#13;RARE_WFF_Bv6--WFF_20090914&#13;jaccard -- 0.40476' class='heat_map_td' bgcolor='#ccccff'</td><td title='RARE_WFF_Bv6--WFF_20090511&#13;RARE_WFF_Bv6--WFF_20091109&#13;jaccard -- 0.40909' class='heat_map_td' bgcolor='#ccccff'</td><td title='RARE_WFF_Bv6--WFF_20090511&#13;RARE_WFF_Bv6--WFF_20091214&#13;jaccard -- 0.51282' class='heat_map_td' bgcolor='#eeeedd'</td></tr><tr id='RARE_WFF_Bv6--WFF_20090608' style='line-height:11px;'><td  id='RARE_WFF_Bv6--WFF_20090608' class='dragHandle ds_cell'>6</td><td class='dragHandle ds_cell' ><input type='hidden' name='ds_order[]' value='275683' >RARE_WFF_Bv6--WFF_20090608</td><td title='RARE_WFF_Bv6--WFF_20090608&#13;RARE_WFF_Bv6--WFF_20090112&#13;jaccard -- 0.55319' class='heat_map_td' bgcolor='#eeeedd'</td><td title='RARE_WFF_Bv6--WFF_20090608&#13;RARE_WFF_Bv6--WFF_20090209&#13;jaccard -- 0.60417' class='heat_map_td' bgcolor='#ffdddd'</td><td title='RARE_WFF_Bv6--WFF_20090608&#13;RARE_WFF_Bv6--WFF_20090309&#13;jaccard -- 0.60870' class='heat_map_td' bgcolor='#ffdddd'</td><td title='RARE_WFF_Bv6--WFF_20090608&#13;RARE_WFF_Bv6--WFF_20090413&#13;jaccard -- 0.53333' class='heat_map_td' bgcolor='#eeeedd'</td><td title='RARE_WFF_Bv6--WFF_20090608&#13;RARE_WFF_Bv6--WFF_20090511&#13;jaccard -- 0.47059' class='heat_map_td' bgcolor='#ddeeee'</td><td id='' class='heat_map_td' bgcolor='#000'></td><td title='RARE_WFF_Bv6--WFF_20090608&#13;RARE_WFF_Bv6--WFF_20090714&#13;jaccard -- 0.61111' class='heat_map_td' bgcolor='#ffdddd'</td><td title='RARE_WFF_Bv6--WFF_20090608&#13;RARE_WFF_Bv6--WFF_20090810&#13;jaccard -- 0.59574' class='heat_map_td' bgcolor='#ffdddd'</td><td title='RARE_WFF_Bv6--WFF_20090608&#13;RARE_WFF_Bv6--WFF_20090914&#13;jaccard -- 0.45946' class='heat_map_td' bgcolor='#ddeeee'</td><td title='RARE_WFF_Bv6--WFF_20090608&#13;RARE_WFF_Bv6--WFF_20091109&#13;jaccard -- 0.53659' class='heat_map_td' bgcolor='#eeeedd'</td><td title='RARE_WFF_Bv6--WFF_20090608&#13;RARE_WFF_Bv6--WFF_20091214&#13;jaccard -- 0.50000' class='heat_map_td' bgcolor='#eeeedd'</td></tr><tr id='RARE_WFF_Bv6--WFF_20090714' style='line-height:11px;'><td  id='RARE_WFF_Bv6--WFF_20090714' class='dragHandle ds_cell'>7</td><td class='dragHandle ds_cell' ><input type='hidden' name='ds_order[]' value='275684' >RARE_WFF_Bv6--WFF_20090714</td><td title='RARE_WFF_Bv6--WFF_20090714&#13;RARE_WFF_Bv6--WFF_20090112&#13;jaccard -- 0.39683' class='heat_map_td' bgcolor='#ccccff'</td><td title='RARE_WFF_Bv6--WFF_20090714&#13;RARE_WFF_Bv6--WFF_20090209&#13;jaccard -- 0.43750' class='heat_map_td' bgcolor='#ddeeee'</td><td title='RARE_WFF_Bv6--WFF_20090714&#13;RARE_WFF_Bv6--WFF_20090309&#13;jaccard -- 0.38333' class='heat_map_td' bgcolor='#ccccff'</td><td title='RARE_WFF_Bv6--WFF_20090714&#13;RARE_WFF_Bv6--WFF_20090413&#13;jaccard -- 0.32203' class='heat_map_td' bgcolor='#aaaaff'</td><td title='RARE_WFF_Bv6--WFF_20090714&#13;RARE_WFF_Bv6--WFF_20090511&#13;jaccard -- 0.48214' class='heat_map_td' bgcolor='#ddeeee'</td><td title='RARE_WFF_Bv6--WFF_20090714&#13;RARE_WFF_Bv6--WFF_20090608&#13;jaccard -- 0.61111' class='heat_map_td' bgcolor='#ffdddd'</td><td id='' class='heat_map_td' bgcolor='#000'></td><td title='RARE_WFF_Bv6--WFF_20090714&#13;RARE_WFF_Bv6--WFF_20090810&#13;jaccard -- 0.32203' class='heat_map_td' bgcolor='#aaaaff'</td><td title='RARE_WFF_Bv6--WFF_20090714&#13;RARE_WFF_Bv6--WFF_20090914&#13;jaccard -- 0.39286' class='heat_map_td' bgcolor='#ccccff'</td><td title='RARE_WFF_Bv6--WFF_20090714&#13;RARE_WFF_Bv6--WFF_20091109&#13;jaccard -- 0.39655' class='heat_map_td' bgcolor='#ccccff'</td><td title='RARE_WFF_Bv6--WFF_20090714&#13;RARE_WFF_Bv6--WFF_20091214&#13;jaccard -- 0.57895' class='heat_map_td' bgcolor='#ffdddd'</td></tr><tr id='RARE_WFF_Bv6--WFF_20090810' style='line-height:11px;'><td  id='RARE_WFF_Bv6--WFF_20090810' class='dragHandle ds_cell'>8</td><td class='dragHandle ds_cell' ><input type='hidden' name='ds_order[]' value='275685' >RARE_WFF_Bv6--WFF_20090810</td><td title='RARE_WFF_Bv6--WFF_20090810&#13;RARE_WFF_Bv6--WFF_20090112&#13;jaccard -- 0.35714' class='heat_map_td' bgcolor='#aaaaff'</td><td title='RARE_WFF_Bv6--WFF_20090810&#13;RARE_WFF_Bv6--WFF_20090209&#13;jaccard -- 0.37500' class='heat_map_td' bgcolor='#ccccff'</td><td title='RARE_WFF_Bv6--WFF_20090810&#13;RARE_WFF_Bv6--WFF_20090309&#13;jaccard -- 0.30769' class='heat_map_td' bgcolor='#aaaaff'</td><td title='RARE_WFF_Bv6--WFF_20090810&#13;RARE_WFF_Bv6--WFF_20090413&#13;jaccard -- 0.33333' class='heat_map_td' bgcolor='#aaaaff'</td><td title='RARE_WFF_Bv6--WFF_20090810&#13;RARE_WFF_Bv6--WFF_20090511&#13;jaccard -- 0.41667' class='heat_map_td' bgcolor='#ccccff'</td><td title='RARE_WFF_Bv6--WFF_20090810&#13;RARE_WFF_Bv6--WFF_20090608&#13;jaccard -- 0.59574' class='heat_map_td' bgcolor='#ffdddd'</td><td title='RARE_WFF_Bv6--WFF_20090810&#13;RARE_WFF_Bv6--WFF_20090714&#13;jaccard -- 0.32203' class='heat_map_td' bgcolor='#aaaaff'</td><td id='' class='heat_map_td' bgcolor='#000'></td><td title='RARE_WFF_Bv6--WFF_20090810&#13;RARE_WFF_Bv6--WFF_20090914&#13;jaccard -- 0.38000' class='heat_map_td' bgcolor='#ccccff'</td><td title='RARE_WFF_Bv6--WFF_20090810&#13;RARE_WFF_Bv6--WFF_20091109&#13;jaccard -- 0.41509' class='heat_map_td' bgcolor='#ccccff'</td><td title='RARE_WFF_Bv6--WFF_20090810&#13;RARE_WFF_Bv6--WFF_20091214&#13;jaccard -- 0.53061' class='heat_map_td' bgcolor='#eeeedd'</td></tr><tr id='RARE_WFF_Bv6--WFF_20090914' style='line-height:11px;'><td  id='RARE_WFF_Bv6--WFF_20090914' class='dragHandle ds_cell'>9</td><td class='dragHandle ds_cell' ><input type='hidden' name='ds_order[]' value='275686' >RARE_WFF_Bv6--WFF_20090914</td><td title='RARE_WFF_Bv6--WFF_20090914&#13;RARE_WFF_Bv6--WFF_20090112&#13;jaccard -- 0.46296' class='heat_map_td' bgcolor='#ddeeee'</td><td title='RARE_WFF_Bv6--WFF_20090914&#13;RARE_WFF_Bv6--WFF_20090209&#13;jaccard -- 0.45283' class='heat_map_td' bgcolor='#ddeeee'</td><td title='RARE_WFF_Bv6--WFF_20090914&#13;RARE_WFF_Bv6--WFF_20090309&#13;jaccard -- 0.48077' class='heat_map_td' bgcolor='#ddeeee'</td><td title='RARE_WFF_Bv6--WFF_20090914&#13;RARE_WFF_Bv6--WFF_20090413&#13;jaccard -- 0.47170' class='heat_map_td' bgcolor='#ddeeee'</td><td title='RARE_WFF_Bv6--WFF_20090914&#13;RARE_WFF_Bv6--WFF_20090511&#13;jaccard -- 0.40476' class='heat_map_td' bgcolor='#ccccff'</td><td title='RARE_WFF_Bv6--WFF_20090914&#13;RARE_WFF_Bv6--WFF_20090608&#13;jaccard -- 0.45946' class='heat_map_td' bgcolor='#ddeeee'</td><td title='RARE_WFF_Bv6--WFF_20090914&#13;RARE_WFF_Bv6--WFF_20090714&#13;jaccard -- 0.39286' class='heat_map_td' bgcolor='#ccccff'</td><td title='RARE_WFF_Bv6--WFF_20090914&#13;RARE_WFF_Bv6--WFF_20090810&#13;jaccard -- 0.38000' class='heat_map_td' bgcolor='#ccccff'</td><td id='' class='heat_map_td' bgcolor='#000'></td><td title='RARE_WFF_Bv6--WFF_20090914&#13;RARE_WFF_Bv6--WFF_20091109&#13;jaccard -- 0.43750' class='heat_map_td' bgcolor='#ddeeee'</td><td title='RARE_WFF_Bv6--WFF_20090914&#13;RARE_WFF_Bv6--WFF_20091214&#13;jaccard -- 0.50000' class='heat_map_td' bgcolor='#eeeedd'</td></tr><tr id='RARE_WFF_Bv6--WFF_20091109' style='line-height:11px;'><td  id='RARE_WFF_Bv6--WFF_20091109' class='dragHandle ds_cell'>10</td><td class='dragHandle ds_cell' ><input type='hidden' name='ds_order[]' value='275687' >RARE_WFF_Bv6--WFF_20091109</td><td title='RARE_WFF_Bv6--WFF_20091109&#13;RARE_WFF_Bv6--WFF_20090112&#13;jaccard -- 0.34615' class='heat_map_td' bgcolor='#aaaaff'</td><td title='RARE_WFF_Bv6--WFF_20091109&#13;RARE_WFF_Bv6--WFF_20090209&#13;jaccard -- 0.42593' class='heat_map_td' bgcolor='#ccccff'</td><td title='RARE_WFF_Bv6--WFF_20091109&#13;RARE_WFF_Bv6--WFF_20090309&#13;jaccard -- 0.42308' class='heat_map_td' bgcolor='#ccccff'</td><td title='RARE_WFF_Bv6--WFF_20091109&#13;RARE_WFF_Bv6--WFF_20090413&#13;jaccard -- 0.38462' class='heat_map_td' bgcolor='#ccccff'</td><td title='RARE_WFF_Bv6--WFF_20091109&#13;RARE_WFF_Bv6--WFF_20090511&#13;jaccard -- 0.40909' class='heat_map_td' bgcolor='#ccccff'</td><td title='RARE_WFF_Bv6--WFF_20091109&#13;RARE_WFF_Bv6--WFF_20090608&#13;jaccard -- 0.53659' class='heat_map_td' bgcolor='#eeeedd'</td><td title='RARE_WFF_Bv6--WFF_20091109&#13;RARE_WFF_Bv6--WFF_20090714&#13;jaccard -- 0.39655' class='heat_map_td' bgcolor='#ccccff'</td><td title='RARE_WFF_Bv6--WFF_20091109&#13;RARE_WFF_Bv6--WFF_20090810&#13;jaccard -- 0.41509' class='heat_map_td' bgcolor='#ccccff'</td><td title='RARE_WFF_Bv6--WFF_20091109&#13;RARE_WFF_Bv6--WFF_20090914&#13;jaccard -- 0.43750' class='heat_map_td' bgcolor='#ddeeee'</td><td id='' class='heat_map_td' bgcolor='#000'></td><td title='RARE_WFF_Bv6--WFF_20091109&#13;RARE_WFF_Bv6--WFF_20091214&#13;jaccard -- 0.46512' class='heat_map_td' bgcolor='#ddeeee'</td></tr><tr id='RARE_WFF_Bv6--WFF_20091214' style='line-height:11px;'><td  id='RARE_WFF_Bv6--WFF_20091214' class='dragHandle ds_cell'>11</td><td class='dragHandle ds_cell' ><input type='hidden' name='ds_order[]' value='275688' >RARE_WFF_Bv6--WFF_20091214</td><td title='RARE_WFF_Bv6--WFF_20091214&#13;RARE_WFF_Bv6--WFF_20090112&#13;jaccard -- 0.57692' class='heat_map_td' bgcolor='#ffdddd'</td><td title='RARE_WFF_Bv6--WFF_20091214&#13;RARE_WFF_Bv6--WFF_20090209&#13;jaccard -- 0.51020' class='heat_map_td' bgcolor='#eeeedd'</td><td title='RARE_WFF_Bv6--WFF_20091214&#13;RARE_WFF_Bv6--WFF_20090309&#13;jaccard -- 0.60000' class='heat_map_td' bgcolor='#ffdddd'</td><td title='RARE_WFF_Bv6--WFF_20091214&#13;RARE_WFF_Bv6--WFF_20090413&#13;jaccard -- 0.56000' class='heat_map_td' bgcolor='#eeeedd'</td><td title='RARE_WFF_Bv6--WFF_20091214&#13;RARE_WFF_Bv6--WFF_20090511&#13;jaccard -- 0.51282' class='heat_map_td' bgcolor='#eeeedd'</td><td title='RARE_WFF_Bv6--WFF_20091214&#13;RARE_WFF_Bv6--WFF_20090608&#13;jaccard -- 0.50000' class='heat_map_td' bgcolor='#eeeedd'</td><td title='RARE_WFF_Bv6--WFF_20091214&#13;RARE_WFF_Bv6--WFF_20090714&#13;jaccard -- 0.57895' class='heat_map_td' bgcolor='#ffdddd'</td><td title='RARE_WFF_Bv6--WFF_20091214&#13;RARE_WFF_Bv6--WFF_20090810&#13;jaccard -- 0.53061' class='heat_map_td' bgcolor='#eeeedd'</td><td title='RARE_WFF_Bv6--WFF_20091214&#13;RARE_WFF_Bv6--WFF_20090914&#13;jaccard -- 0.50000' class='heat_map_td' bgcolor='#eeeedd'</td><td title='RARE_WFF_Bv6--WFF_20091214&#13;RARE_WFF_Bv6--WFF_20091109&#13;jaccard -- 0.46512' class='heat_map_td' bgcolor='#ddeeee'</td><td id='' class='heat_map_td' bgcolor='#000'></td></tr></table></form></center>"
      ],
      "text/plain": [
       "<IPython.core.display.HTML object>"
      ]
     },
     "execution_count": 37,
     "metadata": {},
     "output_type": "execute_result"
    }
   ],
   "source": [
    "ready_images = [\"dheatmap\", \"piecharts\", \"barcharts\", \"counts_matrix\", \"metadata_csv\", \"adiversity\", \"fheatmap\", \"dendrogram\" ]\n",
    "\n",
    "from IPython.core.display import display, HTML\n",
    "out = ''\n",
    "if config['image'] in ready_images:\n",
    "    if config['image'] == 'metadata_csv':\n",
    "        print(return_result)\n",
    "    else:\n",
    "        out = HTML(\"<style>.container { width:100% !important; }</style>\"+return_result)\n",
    "else:\n",
    "    out = 'not implemented yet'\n",
    "out"
   ]
  },
  {
   "cell_type": "code",
   "execution_count": null,
   "metadata": {
    "collapsed": true
   },
   "outputs": [],
   "source": []
  }
 ],
 "metadata": {
  "anaconda-cloud": {},
  "kernelspec": {
   "display_name": "Python 3",
   "language": "python",
   "name": "python3"
  },
  "language_info": {
   "codemirror_mode": {
    "name": "ipython",
    "version": 3
   },
   "file_extension": ".py",
   "mimetype": "text/x-python",
   "name": "python",
   "nbconvert_exporter": "python",
   "pygments_lexer": "ipython3",
   "version": "3.6.0"
  }
 },
 "nbformat": 4,
 "nbformat_minor": 1
}
