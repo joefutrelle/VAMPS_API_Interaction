{
 "cells": [
  {
   "cell_type": "code",
   "execution_count": 28,
   "metadata": {
    "scrolled": true
   },
   "outputs": [
    {
     "name": "stdout",
     "output_type": "stream",
     "text": [
      "Enter JSON Config File Modify_Config.json\n",
      "Enter the Dataset IDs you wish to view 238919 238927 238921 238928 238926\n"
     ]
    }
   ],
   "source": [
    "import json\n",
    "\n",
    "file = input(\"Enter JSON Config File: \")\n",
    "new_data = input(\"Enter the Dataset IDs you wish to view separated by spaces: \")\n",
    "new_data = list(new_data.split())"
   ]
  },
  {
   "cell_type": "code",
   "execution_count": 29,
   "metadata": {
    "scrolled": false
   },
   "outputs": [],
   "source": [
    "config_file = open(file, 'r')\n",
    "config_string = json.load(config_file)\n",
    "config_string['id_name_hash']['ids'] = new_data"
   ]
  },
  {
   "cell_type": "code",
   "execution_count": 30,
   "metadata": {
    "scrolled": false
   },
   "outputs": [
    {
     "data": {
      "text/plain": [
       "325"
      ]
     },
     "execution_count": 30,
     "metadata": {},
     "output_type": "execute_result"
    }
   ],
   "source": [
    "new_json = open(file, 'w')\n",
    "new_json.write(json.dumps(config_string))"
   ]
  }
 ],
 "metadata": {
  "kernelspec": {
   "display_name": "Python 3",
   "language": "python",
   "name": "python3"
  },
  "language_info": {
   "codemirror_mode": {
    "name": "ipython",
    "version": 3
   },
   "file_extension": ".py",
   "mimetype": "text/x-python",
   "name": "python",
   "nbconvert_exporter": "python",
   "pygments_lexer": "ipython3",
   "version": "3.6.0"
  }
 },
 "nbformat": 4,
 "nbformat_minor": 2
}
