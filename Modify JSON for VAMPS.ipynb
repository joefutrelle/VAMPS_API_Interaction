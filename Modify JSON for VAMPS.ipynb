{
 "cells": [
  {
   "cell_type": "code",
   "execution_count": null,
   "metadata": {
    "scrolled": true
   },
   "outputs": [],
   "source": [
    "import json, string\n",
    "\n",
    "file = input(\"Enter JSON Config File: \")\n",
    "new_data = input(\"Enter the Dataset IDs you wish to view: \")\n",
    "image = input('Enter image to display (\"dheatmap\", \"piecharts\", \"barcharts\", \"counts_matrix\", \"metadata_table\", \"fheatmap\", \"dendrogram01\", \"dendrogram03\", \"pcoa\", \"pcoa3d\", \"geospatial\", \"adiversity\", \"none\"): ')\n",
    "for ch in string.punctuation:                                                                                                     \n",
    "    new_data = new_data.replace(ch, \" \")\n",
    "new_data = list(new_data.split(\" \"))\n",
    "new_data = list(filter(None, new_data))"
   ]
  },
  {
   "cell_type": "code",
   "execution_count": null,
   "metadata": {
    "scrolled": false
   },
   "outputs": [],
   "source": [
    "config_file = open(file, 'r')\n",
    "config_string = json.load(config_file)\n",
    "if image != 'none':\n",
    "    config_string['image'] = image\n",
    "config_string['id_name_hash']['ids'] = new_data"
   ]
  },
  {
   "cell_type": "code",
   "execution_count": null,
   "metadata": {
    "scrolled": false
   },
   "outputs": [],
   "source": [
    "new_json = open(file, 'w')\n",
    "new_json.write(json.dumps(config_string))"
   ]
  },
  {
   "cell_type": "code",
   "execution_count": null,
   "metadata": {
    "collapsed": true
   },
   "outputs": [],
   "source": []
  }
 ],
 "metadata": {
  "kernelspec": {
   "display_name": "Python 3",
   "language": "python",
   "name": "python3"
  },
  "language_info": {
   "codemirror_mode": {
    "name": "ipython",
    "version": 3
   },
   "file_extension": ".py",
   "mimetype": "text/x-python",
   "name": "python",
   "nbconvert_exporter": "python",
   "pygments_lexer": "ipython3",
   "version": "3.6.0"
  }
 },
 "nbformat": 4,
 "nbformat_minor": 2
}
