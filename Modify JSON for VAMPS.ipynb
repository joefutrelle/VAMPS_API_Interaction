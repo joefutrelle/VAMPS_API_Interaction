{
 "cells": [
  {
   "cell_type": "code",
   "execution_count": 78,
   "metadata": {
    "scrolled": true
   },
   "outputs": [
    {
     "name": "stdout",
     "output_type": "stream",
     "text": [
      "Enter JSON Config File: Modify_Config.json\n",
      "Enter the Dataset IDs you wish to view: \"340344\",\"340349\",\"340340\",\"340350\",\"340338\",\"340351\",\"340345\",\"340352\",\"340347\",\"340353\",\"340332\",\"340354\",\"340328\",\"340355\",\"340343\",\"340356\",\"340334\",\"340357\",\"340339\",\"340358\",\"340329\",\"340348\",\"340341\",\"340360\",\"340346\",\"340361\",\"340333\",\"340362\",\"340337\",\"340363\",\"340327\",\"340359\",\"340342\",\"340364\",\"340330\",\"340365\",\"340325\",\"340366\",\"340335\",\"340367\",\"340326\",\"340368\",\"340336\",\"340369\",\"340331\",\"340370\"\n",
      "Enter image to display (\"dheatmap\", \"piecharts\", \"barcharts\", \"counts_matrix\", \"metadata_table\", \"fheatmap\", \"dendrogram01\", \"dendrogram03\", \"pcoa\", \"pcoa3d\", \"geospatial\", \"adiversity\", \"none\"): piecharts\n"
     ]
    }
   ],
   "source": [
    "import json, string\n",
    "\n",
    "file = input(\"Enter JSON Config File: \")\n",
    "new_data = input(\"Enter the Dataset IDs you wish to view: \")\n",
    "image = input('Enter image to display (\"dheatmap\", \"piecharts\", \"barcharts\", \"counts_matrix\", \"metadata_table\", \"fheatmap\", \"dendrogram01\", \"dendrogram03\", \"pcoa\", \"pcoa3d\", \"geospatial\", \"adiversity\", \"none\"): ')\n",
    "for ch in string.punctuation:                                                                                                     \n",
    "    new_data = new_data.replace(ch, \" \")\n",
    "new_data = list(new_data.split(\" \"))\n",
    "new_data = list(filter(None, new_data))"
   ]
  },
  {
   "cell_type": "code",
   "execution_count": 79,
   "metadata": {
    "scrolled": false
   },
   "outputs": [],
   "source": [
    "config_file = open(file, 'r')\n",
    "config_string = json.load(config_file)\n",
    "if image != 'none':\n",
    "    config_string['image'] = image\n",
    "config_string['id_name_hash']['ids'] = new_data"
   ]
  },
  {
   "cell_type": "code",
   "execution_count": 80,
   "metadata": {
    "scrolled": false
   },
   "outputs": [
    {
     "data": {
      "text/plain": [
       "757"
      ]
     },
     "execution_count": 80,
     "metadata": {},
     "output_type": "execute_result"
    }
   ],
   "source": [
    "new_json = open(file, 'w')\n",
    "new_json.write(json.dumps(config_string))"
   ]
  },
  {
   "cell_type": "code",
   "execution_count": null,
   "metadata": {
    "collapsed": true
   },
   "outputs": [],
   "source": []
  }
 ],
 "metadata": {
  "kernelspec": {
   "display_name": "Python 3",
   "language": "python",
   "name": "python3"
  },
  "language_info": {
   "codemirror_mode": {
    "name": "ipython",
    "version": 3
   },
   "file_extension": ".py",
   "mimetype": "text/x-python",
   "name": "python",
   "nbconvert_exporter": "python",
   "pygments_lexer": "ipython3",
   "version": "3.6.0"
  }
 },
 "nbformat": 4,
 "nbformat_minor": 2
}
