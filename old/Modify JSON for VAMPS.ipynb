{
 "cells": [
  {
   "cell_type": "code",
   "execution_count": 5,
   "metadata": {},
   "outputs": [
    {
     "name": "stdout",
     "output_type": "stream",
     "text": [
      "Enter your VAMPS username: ruzics\n",
      "Enter your VAMPS password: AgypuVY3\n"
     ]
    }
   ],
   "source": [
    "import re\n",
    "from robobrowser import RoboBrowser\n",
    "#using RoboBrowser to browse VAMPS remotely\n",
    "browser = RoboBrowser(parser='html.parser')\n",
    "#find login form\n",
    "browser.open('https://vamps2.mbl.edu/users/login')\n",
    "signin_form = browser.get_form(action=\"/users/login\") \n",
    "#sign in to VAMPS\n",
    "user = input(\"Enter your VAMPS username: \")\n",
    "password = input(\"Enter your VAMPS password: \")\n",
    "signin_form['username'].value = user\n",
    "signin_form['password'].value = password\n",
    "browser.submit_form(signin_form)"
   ]
  },
  {
   "cell_type": "code",
   "execution_count": 6,
   "metadata": {
    "scrolled": true
   },
   "outputs": [
    {
     "name": "stdout",
     "output_type": "stream",
     "text": [
      "Enter JSON Config File: test_config.json\n",
      "Enter the Dataset IDs you wish to view: \"348474\",\"348475\",\"348476\",\"348477\",\"348478\",\"348479\",\"348480\",\"348481\",\"348482\",\"348483\",\"348484\"\n",
      "Enter image to display (\"dheatmap\", \"piecharts\", \"barcharts\", \"counts_matrix\", \"metadata_table\", \"fheatmap\", \"dendrogram01\", \"dendrogram03\", \"pcoa\", \"pcoa3d\", \"geospatial\", \"adiversity\", \"none\"): piecharts\n"
     ]
    }
   ],
   "source": [
    "import json, string\n",
    "#take in config file to change\n",
    "file = input(\"Enter JSON Config File: \")\n",
    "new_data = input(\"Enter the Dataset IDs you wish to view: \")\n",
    "image = input('Enter image to display (\"dheatmap\", \"piecharts\", \"barcharts\", \"counts_matrix\", \"metadata_table\", \"fheatmap\", \"dendrogram01\", \"dendrogram03\", \"pcoa\", \"pcoa3d\", \"geospatial\", \"adiversity\", \"none\"): ')\n",
    "for ch in string.punctuation:  #standardize ID input                                                                                                   \n",
    "    new_data = new_data.replace(ch, \" \")\n",
    "new_data = list(new_data.split(\" \"))\n",
    "new_data = list(filter(None, new_data))"
   ]
  },
  {
   "cell_type": "code",
   "execution_count": 7,
   "metadata": {
    "scrolled": false
   },
   "outputs": [
    {
     "data": {
      "text/plain": [
       "602"
      ]
     },
     "execution_count": 7,
     "metadata": {},
     "output_type": "execute_result"
    }
   ],
   "source": [
    "config_file = open(file, 'r')\n",
    "config_string = json.load(config_file)\n",
    "#change config file to match new image/dataset \n",
    "if image != 'none':\n",
    "    config_string['image'] = image\n",
    "config_string['id_name_hash']['ids'] = new_data\n",
    "#rewrite json file that was input\n",
    "new_json = open(file, 'w')\n",
    "new_json.write(json.dumps(config_string))"
   ]
  },
  {
   "cell_type": "code",
   "execution_count": 8,
   "metadata": {
    "collapsed": true
   },
   "outputs": [],
   "source": [
    "#upload new config file to VAMPS remotely\n",
    "browser.open('https://vamps2.mbl.edu/user_data/upload_configuration')\n",
    "upload = browser.get_form(action = 'config_file')\n",
    "upload['upload_files'].value = open(file, 'r')\n",
    "browser.submit_form(upload)"
   ]
  }
 ],
 "metadata": {
  "kernelspec": {
   "display_name": "Python 3",
   "language": "python",
   "name": "python3"
  },
  "language_info": {
   "codemirror_mode": {
    "name": "ipython",
    "version": 3
   },
   "file_extension": ".py",
   "mimetype": "text/x-python",
   "name": "python",
   "nbconvert_exporter": "python",
   "pygments_lexer": "ipython3",
   "version": "3.6.0"
  }
 },
 "nbformat": 4,
 "nbformat_minor": 2
}
