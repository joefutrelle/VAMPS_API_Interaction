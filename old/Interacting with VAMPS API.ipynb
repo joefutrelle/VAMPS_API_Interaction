{
 "cells": [
  {
   "cell_type": "markdown",
   "metadata": {},
   "source": [
    "<h1>Interacting with the VAMPS-API</h1>\n",
    "<h2>This notebook:</h2>\n",
    "<ul>\n",
    "<li><strong>Logs into VAMPS account </strong> if you don't have an account, use guest account (Username: 'guest', Password: 'guest')</li>\n",
    "<li><strong>Uses a config file</strong></li>\n",
    "Either specify an existing config file to use <strong>OR</strong> edit 'config' in the code below to match your preferences\n",
    "<li><strong>Gets dataset ID's for specified dataset</strong></li>\n",
    "<li><strong>Displays specified visualization</strong></li>\n",
    "<li><strong>Saves visualization locally to your computer</strong></li>\n",
    "<li><strong>Can upload config to VAMPS for later use</strong></li>\n",
    "</ul>\n",
    "<h2>To use this notebook:</h2>\n",
    "<ul><strong><li>Press run cell button</li>\n",
    "<li>Enter information if promtped</li>\n",
    "<li>Do not run the next cell if the previous cell has an asterisk next to \"In\" (\"In [*]:\"), this means it is still processing</li>\n",
    "<li>When the asterisk turns into any number, you can run the next cell</li></strong></ul>"
   ]
  },
  {
   "cell_type": "markdown",
   "metadata": {},
   "source": [
    "<h3>Import relevant python packages; Allow both Python 2 and 3</h3>"
   ]
  },
  {
   "cell_type": "code",
   "execution_count": null,
   "metadata": {
    "collapsed": true
   },
   "outputs": [],
   "source": [
    "\"\"\"\n",
    "Author: AAV / SR\n",
    "vamps2.mbl.edu\n",
    "\"\"\"\n",
    "\n",
    "import os,sys\n",
    "import requests\n",
    "from bs4 import BeautifulSoup   # parser for html\n",
    "import json, string, getpass\n",
    "\n",
    "#to allow both Python 2 and 3\n",
    "try:\n",
    "    input = raw_input  \n",
    "except NameError: #Python 3\n",
    "    pass\n"
   ]
  },
  {
   "cell_type": "markdown",
   "metadata": {},
   "source": [
    "<h3>Gets VAMPS username and password, then attempts login to VAMPS</h3>"
   ]
  },
  {
   "cell_type": "code",
   "execution_count": 19,
   "metadata": {},
   "outputs": [
    {
     "name": "stdout",
     "output_type": "stream",
     "text": [
      "Enter your VAMPS username: ruzics\n",
      "Enter your VAMPS password: ········\n"
     ]
    }
   ],
   "source": [
    "#get VAMPS username and password\n",
    "user = input(\"Enter your VAMPS username: \")\n",
    "pw = getpass.getpass(\"Enter your VAMPS password: \")\n",
    "\n",
    "conn = {'user': user,\n",
    "        'passwd': pw,\n",
    "         # vamps:             https://vamps2.mbl.edu\n",
    "         # vampsdev (private) http://vampsdev.jbpc-np.mbl.edu:8124 \n",
    "         # localhost:         http://localhost:3000 \n",
    "        'hosturl':'https://vamps2.mbl.edu'\n",
    "       }\n",
    "\n",
    "#attempt login to VAMPS\n",
    "s = requests.Session()\n",
    "r = s.post(conn['hosturl']+'/users/login', data={'username':conn['user'], 'password':conn['passwd']})"
   ]
  },
  {
   "cell_type": "markdown",
   "metadata": {},
   "source": [
    "<h3>If username/password is incorrect, exit program</h3>"
   ]
  },
  {
   "cell_type": "code",
   "execution_count": 20,
   "metadata": {},
   "outputs": [
    {
     "name": "stdout",
     "output_type": "stream",
     "text": [
      "Login successful\n"
     ]
    }
   ],
   "source": [
    "#exit program if login unsuccessful\n",
    "if r.url == 'https://vamps2.mbl.edu/users/login':\n",
    "    sys.exit('Login not successful')\n",
    "elif r.url == 'https://vamps2.mbl.edu/':\n",
    "    print('Login successful')"
   ]
  },
  {
   "cell_type": "markdown",
   "metadata": {},
   "source": [
    "<h3>Option to upload an existing config file or see list of datasets</h3>"
   ]
  },
  {
   "cell_type": "code",
   "execution_count": 22,
   "metadata": {},
   "outputs": [
    {
     "name": "stdout",
     "output_type": "stream",
     "text": [
      "Do you want to use an already existing config file? ('Y' or 'N'): Y\n",
      "Enter JSON Config File: test_api.json\n"
     ]
    }
   ],
   "source": [
    "upload = input(\"Do you want to use an already existing config file? ('Y' or 'N'): \")\n",
    "\n",
    "#to upload config: \n",
    "if upload[0].capitalize() == \"Y\":\n",
    "    file = input('Enter JSON Config File: ')\n",
    "    with open(file) as f:        \n",
    "        config = json.load(f)\n",
    "    id_list = 'N'\n",
    "else:\n",
    "    id_list = input(\"Do you want to search through datasets or see all you have access to? ('Y' or 'N'): \")\n",
    "    print(\"Edit 'config' below to match preferences before running cell\")"
   ]
  },
  {
   "cell_type": "markdown",
   "metadata": {},
   "source": [
    "<h3>Option to search through datasets you have access to or see all</h3>"
   ]
  },
  {
   "cell_type": "code",
   "execution_count": 23,
   "metadata": {},
   "outputs": [
    {
     "name": "stdout",
     "output_type": "stream",
     "text": [
      "Enter dataset you are looking for to get a list of matches, or enter 'all' to see all datasets: No\n",
      "Here are your search results: \n",
      "You can use any of these in the 'project' field of config below\n"
     ]
    }
   ],
   "source": [
    "if id_list[0].capitalize() == \"Y\":\n",
    "    \n",
    "    #use selenium since requests cannot process Javascript on page\n",
    "    from selenium import webdriver\n",
    "    from selenium.webdriver.common.keys import Keys\n",
    "    from selenium.webdriver.common.by import By\n",
    "    from selenium.common.exceptions import TimeoutException\n",
    "    from selenium.webdriver.support import expected_conditions as EC\n",
    "    from selenium.webdriver.support.ui import WebDriverWait\n",
    "    \n",
    "    #open remote browser\n",
    "    browser = webdriver.PhantomJS()\n",
    "    browser.get('https://vamps2.mbl.edu/users/login')\n",
    "    \n",
    "    #log into VAMPS\n",
    "    browser.find_element_by_id(\"username\").send_keys(user)\n",
    "    browser.find_element_by_id(\"password\").send_keys(pw)\n",
    "    browser.find_element_by_id(\"password\").submit();\n",
    "    \n",
    "    #get ID selection page\n",
    "    browser.get('https://vamps2.mbl.edu/visuals/visuals_index')\n",
    "    \n",
    "    #wait for ID sets to load\n",
    "    timeout = 30\n",
    "    element_present = EC.presence_of_element_located((By.ID, \"project/AB_SAND_Bv6/Microbial populations in sand/public\"))\n",
    "    WebDriverWait(browser, timeout).until(element_present)\n",
    "    #print(browser.page_source)\n",
    "\n",
    "    #make a list of all dataset objects\n",
    "    elements = browser.find_elements_by_class_name(\"tooltip_pjds_list\")\n",
    "    \n",
    "    search = input(\"Enter dataset you are looking for to get a list of matches, or enter 'all' to see all datasets: \")\n",
    "    search = search.upper()\n",
    "    if search == 'ALL':\n",
    "        print(\"Here is a list of datasets you have access to: \")\n",
    "        for element in elements:\n",
    "            print(element.text)\n",
    "    else:\n",
    "        print(\"Here are your search results: \")\n",
    "        print(\"You can use any of these in the 'project' field of config below\")\n",
    "        for element in elements:\n",
    "            if search in element.text:\n",
    "                print(element.text)\n",
    "        \n",
    "    "
   ]
  },
  {
   "cell_type": "markdown",
   "metadata": {},
   "source": [
    "<h3>If no config file was uploaded, edit 'config' *before* you run the cell. The comments show the options for each value.</h3>"
   ]
  },
  {
   "cell_type": "code",
   "execution_count": 24,
   "metadata": {
    "collapsed": true
   },
   "outputs": [],
   "source": [
    "if upload == \"N\":\n",
    "    #edit config, comments next to values show allowed different options\n",
    "    config = {\n",
    "        \"api\":\"1\",\n",
    "        \"source\":\"VAMPS-API\",\n",
    "        \"update_data\":1,\n",
    "        \"normalization\":\"none\",              # none, maximum, frequency\n",
    "        \"selected_distance\":\"morisita-horn\",  # morisita-horn, jaccard, kulczynski, canberra bray-curtis\n",
    "        \"tax_depth\":\"phylum\",                 # domain, phylum, klass, order, family, genus, species, strain\n",
    "        \"domains\":[\"Archaea\",\"Bacteria\",\"Eukarya\",\"Organelle\",\"Unknown\"],   #[\"Archaea\",\"Bacteria\",\"Eukarya\",\"Organelle\",\"Unknown\"],\n",
    "        \"include_nas\":\"yes\",                  # yes or no\n",
    "        \"min_range\":0,                        # integer 0-99\n",
    "        \"max_range\":100,                      # integer 1-100\n",
    "\n",
    "          # Must be a valid project - with correct permissions for the above user.\n",
    "        'project':'MVCO_ciliate_timeseries2',   \n",
    "\n",
    "          # Currently avalable: \"dheatmap\", \"piecharts\", \"barcharts\", \"counts_matrix\", \"metadata_csv\", \"adiversity\", \"fheatmap\", \"dendrogram\" \n",
    "        'image':'adiversity'\n",
    "    }"
   ]
  },
  {
   "cell_type": "markdown",
   "metadata": {},
   "source": [
    "<h3>Get and display project IDs</h3>"
   ]
  },
  {
   "cell_type": "code",
   "execution_count": 25,
   "metadata": {},
   "outputs": [
    {
     "name": "stdout",
     "output_type": "stream",
     "text": [
      "[353061,353062,353063,353064,353065,353066,353067,353068,353069,353070,353071,353072,353073,353074,353075,353076,353077,353078,353079,353080,353081,353082,353083,353084,353085,353086,353087]\n"
     ]
    }
   ],
   "source": [
    "# get project ids:\n",
    "r = s.post(conn['hosturl']+'/api/get_dids_from_project', timeout=15, data=config)  \n",
    "config['ds_order'] = r.text\n",
    "print(config['ds_order'])"
   ]
  },
  {
   "cell_type": "markdown",
   "metadata": {},
   "source": [
    "<h3>Create remote configuration and get timestamp (file_prefix)</h3>"
   ]
  },
  {
   "cell_type": "code",
   "execution_count": 26,
   "metadata": {
    "collapsed": true
   },
   "outputs": [],
   "source": [
    "# Get timestamp (filename prefix):\n",
    "r = s.post(conn['hosturl']+'/visuals/view_selection', timeout=15, data=config)\n",
    "soup = BeautifulSoup(r.text, \"lxml\")  # html5lib  lxml html.parser\n",
    "\n",
    "ts = soup.find(id=\"ts_for_bs\").string"
   ]
  },
  {
   "cell_type": "markdown",
   "metadata": {},
   "source": [
    "<h3>Save matrix file which is integral to VAMPS images</h3>"
   ]
  },
  {
   "cell_type": "code",
   "execution_count": 27,
   "metadata": {
    "collapsed": true
   },
   "outputs": [],
   "source": [
    "import json\n",
    "biom_matrix_file = ts+'_count_matrix.biom'\n",
    "url = conn['hosturl']+\"/\"+biom_matrix_file\n",
    "response = requests.get(url, stream=True)\n",
    "response.raise_for_status()\n",
    "out_file = biom_matrix_file\n",
    "with open(out_file, \"wb\") as handle:\n",
    "    for block in response.iter_content(1024):\n",
    "        handle.write(block)"
   ]
  },
  {
   "cell_type": "markdown",
   "metadata": {},
   "source": [
    "<h3>Save image file</h3>"
   ]
  },
  {
   "cell_type": "code",
   "execution_count": 28,
   "metadata": {},
   "outputs": [
    {
     "name": "stdout",
     "output_type": "stream",
     "text": [
      "ruzics_1501604711304-adiversity-api.csv\n",
      "Done writing local file: ruzics_1501604711304-adiversity-api.csv\n"
     ]
    }
   ],
   "source": [
    "r = s.post(conn['hosturl']+'/api/create_image', timeout=30, data=config)\n",
    "\n",
    "try:\n",
    "    result = json.loads(r.text)\n",
    "except:\n",
    "    print(r.text)\n",
    "    sys.exit()\n",
    "local_filename = result['filename']\n",
    "return_result = result['html']\n",
    "print(local_filename)\n",
    "remote_file_name = conn['hosturl']+\"/\"+local_filename\n",
    "\n",
    "r = requests.get(remote_file_name, stream=True)\n",
    "with open(local_filename, 'wb') as f:\n",
    "    f.write(r.content)\n",
    "print('Done writing local file:',local_filename)"
   ]
  },
  {
   "cell_type": "markdown",
   "metadata": {},
   "source": [
    "<h3>Option to upload config file to VAMPS for later use</h3>"
   ]
  },
  {
   "cell_type": "code",
   "execution_count": 29,
   "metadata": {},
   "outputs": [
    {
     "name": "stdout",
     "output_type": "stream",
     "text": [
      "Do you want to upload config file to VAMPS for later use?('Y' or 'N'): N\n"
     ]
    }
   ],
   "source": [
    "upload_to_vamps = input(\"Do you want to upload config file to VAMPS for later use?('Y' or 'N'): \")\n",
    "if upload_to_vamps[0].capitalize() == 'Y':\n",
    "    dataset_ids = config['ds_order'].strip('[')\n",
    "    dataset_ids = dataset_ids.strip(']')\n",
    "    dataset_ids = dataset_ids.split(',')\n",
    "    vamps_config = {\n",
    "      \"source\":\"VAMPS\",\n",
    "      \"image\":config['image'],\n",
    "      \"post_items\":\n",
    "      { \n",
    "        \"normalization\":config['normalization'],\n",
    "        \"selected_distance\":config['selected_distance'],\n",
    "        \"tax_depth\":config['tax_depth'],\n",
    "        \"domains\":config['domains'],\n",
    "        \"include_nas\":config['include_nas'],\n",
    "        \"min_range\":config['min_range'],\n",
    "        \"max_range\":config['max_range']\n",
    "      },\n",
    "        \"id_name_hash\":\n",
    "        {\n",
    "          \"ids\":dataset_ids\n",
    "        }\n",
    "    }\n",
    "    upload = {\n",
    "    'upload_files': json.dumps(vamps_config)\n",
    "    }\n",
    "    data = {\n",
    "    'from_upload_configuration_file' : '1'\n",
    "    }\n",
    "    r = s.post('https://vamps2.mbl.edu/visuals/view_selection', data=data,files=upload)"
   ]
  },
  {
   "cell_type": "markdown",
   "metadata": {},
   "source": [
    "<h3>Show image (if chosen image is implemented)</h3>"
   ]
  },
  {
   "cell_type": "code",
   "execution_count": 30,
   "metadata": {},
   "outputs": [
    {
     "data": {
      "text/html": [
       "<style>.container { width:100% !important; }</style><table class='table'><tr><td>Dataset</td><td>observed richness</td><td>ACE</td><td>chao1</td><td>Shannon</td><td>Simpson</td></tr><tr><td>MVCO_ciliate_timeseries--RG10join</td><td>3</td><td>4.11111111111</td><td>3.0</td><td>0.0170213665167</td><td>0.00297609500596</td></tr><tr><td>MVCO_ciliate_timeseries--RG11join</td><td>7</td><td>17.0</td><td>10.0</td><td>0.325338004629</td><td>0.0990887949372</td></tr><tr><td>MVCO_ciliate_timeseries--RG12join</td><td>7</td><td>10.0277777778</td><td>7.5</td><td>0.271760430211</td><td>0.0695136798539</td></tr><tr><td>MVCO_ciliate_timeseries--RG13join</td><td>19</td><td>22.7195216049</td><td>22.3333333333</td><td>1.06850976048</td><td>0.302325350072</td></tr><tr><td>MVCO_ciliate_timeseries--RG14join</td><td>2</td><td>error</td><td>2.0</td><td>0.00436210061712</td><td>0.000671817189849</td></tr><tr><td>MVCO_ciliate_timeseries--RG15join</td><td>6</td><td>7.25850340136</td><td>7.0</td><td>0.0553278346642</td><td>0.00990050941675</td></tr><tr><td>MVCO_ciliate_timeseries--RG16join</td><td>5</td><td>11.0</td><td>6.5</td><td>0.0171704147005</td><td>0.00265589949129</td></tr><tr><td>MVCO_ciliate_timeseries--RG17join</td><td>7</td><td>13.5555555556</td><td>8.5</td><td>0.0917106870253</td><td>0.0180297532635</td></tr><tr><td>MVCO_ciliate_timeseries--RG18join</td><td>7</td><td>18.012345679</td><td>10.0</td><td>0.103464240215</td><td>0.0203961176873</td></tr><tr><td>MVCO_ciliate_timeseries--RG19join</td><td>4</td><td>7.9</td><td>5.0</td><td>0.041298983</td><td>0.0076897786824</td></tr><tr><td>MVCO_ciliate_timeseries--RG1join</td><td>4</td><td>4.7037037037</td><td>4.0</td><td>0.0519143420349</td><td>0.00996846597386</td></tr><tr><td>MVCO_ciliate_timeseries--RG20join</td><td>1</td><td>1</td><td>1.0</td><td>-0.0</td><td>0.0</td></tr><tr><td>MVCO_ciliate_timeseries--RG21join</td><td>6</td><td>9.68571428571</td><td>7.5</td><td>0.0564079647898</td><td>0.0100124170049</td></tr><tr><td>MVCO_ciliate_timeseries--RG22join</td><td>3</td><td>3.0</td><td>3.0</td><td>0.0125858498181</td><td>0.00203097114813</td></tr><tr><td>MVCO_ciliate_timeseries--RG23join</td><td>19</td><td>28.1659788767</td><td>26.5</td><td>0.835162738932</td><td>0.20991575047</td></tr><tr><td>MVCO_ciliate_timeseries--RG24join</td><td>2</td><td>2.0</td><td>2.0</td><td>0.00897965627533</td><td>0.00152052623586</td></tr><tr><td>MVCO_ciliate_timeseries--RG25join</td><td>1</td><td>1</td><td>1.0</td><td>-0.0</td><td>0.0</td></tr><tr><td>MVCO_ciliate_timeseries--RG26join</td><td>1</td><td>1</td><td>1.0</td><td>-0.0</td><td>0.0</td></tr><tr><td>MVCO_ciliate_timeseries--RG27join</td><td>1</td><td>1</td><td>1.0</td><td>-0.0</td><td>0.0</td></tr><tr><td>MVCO_ciliate_timeseries--RG2join</td><td>3</td><td>3</td><td>3.0</td><td>0.313523007568</td><td>0.0896250799805</td></tr><tr><td>MVCO_ciliate_timeseries--RG3join</td><td>6</td><td>21.5909090909</td><td>12.0</td><td>0.0436089116442</td><td>0.00790290184609</td></tr><tr><td>MVCO_ciliate_timeseries--RG4join</td><td>11</td><td>16.5603898364</td><td>16.0</td><td>0.0524917025038</td><td>0.00898808196115</td></tr><tr><td>MVCO_ciliate_timeseries--RG5join</td><td>3</td><td>3.0</td><td>3.0</td><td>0.0286806455933</td><td>0.00526596280495</td></tr><tr><td>MVCO_ciliate_timeseries--RG6join</td><td>6</td><td>7.92592592593</td><td>6.33333333333</td><td>0.0361807936717</td><td>0.00610245763736</td></tr><tr><td>MVCO_ciliate_timeseries--RG7join</td><td>7</td><td>14.6553846154</td><td>13.0</td><td>0.0502220737924</td><td>0.00879113819642</td></tr><tr><td>MVCO_ciliate_timeseries--RG8join</td><td>5</td><td>12.6</td><td>8.0</td><td>0.021230736641</td><td>0.00341296485593</td></tr><tr><td>MVCO_ciliate_timeseries--RG9join</td><td>4</td><td>8.07142857143</td><td>5.0</td><td>0.025402006278</td><td>0.00452221891171</td></tr></table>"
      ],
      "text/plain": [
       "<IPython.core.display.HTML object>"
      ]
     },
     "execution_count": 30,
     "metadata": {},
     "output_type": "execute_result"
    }
   ],
   "source": [
    "ready_images = [\"dheatmap\", \"piecharts\", \"barcharts\", \"counts_matrix\", \"metadata_csv\", \"adiversity\", \"fheatmap\", \"dendrogram\" ]\n",
    "\n",
    "from IPython.core.display import display, HTML\n",
    "out = ''\n",
    "if config['image'] in ready_images:\n",
    "    if config['image'] == 'metadata_csv':\n",
    "        print(return_result)\n",
    "    else:\n",
    "        out = HTML(\"<style>.container { width:100% !important; }</style>\"+return_result)\n",
    "else:\n",
    "    out = 'not implemented yet'\n",
    "out"
   ]
  },
  {
   "cell_type": "code",
   "execution_count": null,
   "metadata": {
    "collapsed": true
   },
   "outputs": [],
   "source": []
  }
 ],
 "metadata": {
  "anaconda-cloud": {},
  "kernelspec": {
   "display_name": "Python 3",
   "language": "python",
   "name": "python3"
  },
  "language_info": {
   "codemirror_mode": {
    "name": "ipython",
    "version": 3
   },
   "file_extension": ".py",
   "mimetype": "text/x-python",
   "name": "python",
   "nbconvert_exporter": "python",
   "pygments_lexer": "ipython3",
   "version": "3.6.0"
  }
 },
 "nbformat": 4,
 "nbformat_minor": 1
}
