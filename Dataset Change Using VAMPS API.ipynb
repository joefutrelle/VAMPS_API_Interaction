{
 "cells": [
  {
   "cell_type": "markdown",
   "metadata": {},
   "source": [
    "<h1>Interacting with the VAMPS-API</h1>\n",
    "<h2>This notebook:</h2>\n",
    "<ul>\n",
    "<li>Logs into VAMPS account, if you don't have an account, use guest account (Username: 'guest', Password: 'guest')</li>\n",
    "<li>Produces a config file for MVCO eukaryote data, selecting the Alpha Diversity visualization</li>\n",
    "<li>Displays visualization using configuration file</li>\n",
    "<li>Takes the same configuration file, modifies the project to be for MVCO bacteria data</li>\n",
    "<li>Displays same vizualization using same constraints, with the different project</li>\n",
    "</ul>\n",
    "<h2>To use this notebook:</h2>\n",
    "<ul><li>Press run cell button</li>\n",
    "<li>Enter information if promtped</li>\n",
    "<li>Do not run the next cell if the previous cell has an asterisk next to \"In\" (\"In [*]:\"), this means it is still processing</li>\n",
    "<li>When the asterisk turns into any number, you can run the next cell</li></ul>"
   ]
  },
  {
   "cell_type": "markdown",
   "metadata": {},
   "source": [
    "<h3>Import relevant python packages; Allow both Python 2 and 3</h3>"
   ]
  },
  {
   "cell_type": "code",
   "execution_count": 7,
   "metadata": {
    "collapsed": true
   },
   "outputs": [],
   "source": [
    "import os,sys\n",
    "import requests\n",
    "from bs4 import BeautifulSoup   # parser for html\n",
    "import json, string, getpass\n",
    "\n",
    "#to allow both Python 2 and 3\n",
    "try:\n",
    "    input = raw_input  \n",
    "except NameError: #Python 3\n",
    "    pass"
   ]
  },
  {
   "cell_type": "markdown",
   "metadata": {},
   "source": [
    "<h3>Gets VAMPS username and password, then attempts login to VAMPS</h3>"
   ]
  },
  {
   "cell_type": "code",
   "execution_count": 8,
   "metadata": {},
   "outputs": [
    {
     "name": "stdout",
     "output_type": "stream",
     "text": [
      "Enter your VAMPS username: ruzics\n",
      "Enter your VAMPS password: ········\n"
     ]
    }
   ],
   "source": [
    "#get VAMPS username and password\n",
    "user = input(\"Enter your VAMPS username: \")\n",
    "pw = getpass.getpass(\"Enter your VAMPS password: \")\n",
    "\n",
    "conn = {'user': user,\n",
    "        'passwd': pw,\n",
    "         # vamps:             https://vamps2.mbl.edu\n",
    "         # vampsdev (private) http://vampsdev.jbpc-np.mbl.edu:8124 \n",
    "         # localhost:         http://localhost:3000 \n",
    "        'hosturl':'https://vamps2.mbl.edu'\n",
    "       }\n",
    "\n",
    "#attempt login to VAMPS\n",
    "s = requests.Session()\n",
    "r = s.post(conn['hosturl']+'/users/login', data={'username':conn['user'], 'password':conn['passwd']})"
   ]
  },
  {
   "cell_type": "markdown",
   "metadata": {},
   "source": [
    "<h3>If username/password is incorrect, exit program</h3>"
   ]
  },
  {
   "cell_type": "code",
   "execution_count": 9,
   "metadata": {},
   "outputs": [
    {
     "name": "stdout",
     "output_type": "stream",
     "text": [
      "Login successful\n"
     ]
    }
   ],
   "source": [
    "#exit program if login unsuccessful\n",
    "if r.url == 'https://vamps2.mbl.edu/users/login':\n",
    "    sys.exit('Login not successful')\n",
    "elif r.url == 'https://vamps2.mbl.edu/':\n",
    "    print('Login successful')"
   ]
  },
  {
   "cell_type": "markdown",
   "metadata": {},
   "source": [
    "<h3>Set original configuration file, using MVCO eukaryote data as project</h3>"
   ]
  },
  {
   "cell_type": "code",
   "execution_count": 10,
   "metadata": {
    "collapsed": true
   },
   "outputs": [],
   "source": [
    "#original config; Emily B.'s MVCO eukaryote data\n",
    "config = {\n",
    "        \"api\":\"1\",\n",
    "        \"source\":\"VAMPS-API\",\n",
    "        \"update_data\":1,\n",
    "        \"normalization\":\"none\",              \n",
    "        \"selected_distance\":\"morisita-horn\",  \n",
    "        \"tax_depth\":\"phylum\",                 \n",
    "        \"domains\":[\"Archaea\",\"Bacteria\",\"Eukarya\",\"Organelle\",\"Unknown\"],   \n",
    "        \"include_nas\":\"yes\",                  \n",
    "        \"min_range\":0,                        \n",
    "        \"max_range\":100,                      \n",
    "\n",
    "          # Emily B.'s MVCO eukaryote data\n",
    "        'project':'MVCO_ciliate_timeseries2',   \n",
    "\n",
    "          # Alpha Diversity visualization\n",
    "        'image':'adiversity'\n",
    "    }"
   ]
  },
  {
   "cell_type": "markdown",
   "metadata": {},
   "source": [
    "<h3>Get and display project IDs</h3>"
   ]
  },
  {
   "cell_type": "code",
   "execution_count": 11,
   "metadata": {},
   "outputs": [
    {
     "name": "stdout",
     "output_type": "stream",
     "text": [
      "[\"353191\",\"353192\",\"353193\",\"353194\",\"353195\",\"353196\",\"353197\",\"353198\",\"353199\",\"353200\",\"353201\",\"353202\",\"353203\",\"353204\",\"353205\",\"353206\",\"353207\",\"353208\",\"353209\",\"353210\",\"353211\",\"353212\",\"353213\",\"353214\",\"353215\",\"353216\",\"353217\"]\n"
     ]
    }
   ],
   "source": [
    "# get project ids:\n",
    "r = s.post(conn['hosturl']+'/api/get_dids_from_project', timeout=15, data=config)  \n",
    "config['ds_order'] = r.text\n",
    "print(config['ds_order'])"
   ]
  },
  {
   "cell_type": "markdown",
   "metadata": {},
   "source": [
    "<h3>Create remote configuration and get timestamp (file_prefix)</h3>"
   ]
  },
  {
   "cell_type": "code",
   "execution_count": 12,
   "metadata": {
    "collapsed": true
   },
   "outputs": [],
   "source": [
    "# Get timestamp (filename prefix):\n",
    "r = s.post(conn['hosturl']+'/visuals/view_selection', timeout=15, data=config)\n",
    "soup = BeautifulSoup(r.text, \"lxml\")  # html5lib  lxml html.parser\n",
    "\n",
    "ts = soup.find(id=\"ts_for_bs\").string"
   ]
  },
  {
   "cell_type": "markdown",
   "metadata": {},
   "source": [
    "<h3>Save matrix file which is integral to VAMPS images</h3>"
   ]
  },
  {
   "cell_type": "code",
   "execution_count": 13,
   "metadata": {
    "collapsed": true
   },
   "outputs": [],
   "source": [
    "import json\n",
    "biom_matrix_file = ts+'_count_matrix.biom'\n",
    "url = conn['hosturl']+\"/\"+biom_matrix_file\n",
    "response = requests.get(url, stream=True)\n",
    "response.raise_for_status()\n",
    "out_file = biom_matrix_file\n",
    "with open(out_file, \"wb\") as handle:\n",
    "    for block in response.iter_content(1024):\n",
    "        handle.write(block)"
   ]
  },
  {
   "cell_type": "markdown",
   "metadata": {},
   "source": [
    "<h3>Save image file</h3>"
   ]
  },
  {
   "cell_type": "code",
   "execution_count": 14,
   "metadata": {},
   "outputs": [
    {
     "name": "stdout",
     "output_type": "stream",
     "text": [
      "ruzics_1501776915240-adiversity-api.csv\n",
      "Done writing local file: ruzics_1501776915240-adiversity-api.csv\n"
     ]
    }
   ],
   "source": [
    "r = s.post(conn['hosturl']+'/api/create_image', timeout=30, data=config)\n",
    "\n",
    "try:\n",
    "    result = json.loads(r.text)\n",
    "except:\n",
    "    print(r.text)\n",
    "    sys.exit()\n",
    "local_filename = result['filename']\n",
    "return_result = result['html']\n",
    "print(local_filename)\n",
    "remote_file_name = conn['hosturl']+\"/\"+local_filename\n",
    "\n",
    "r = requests.get(remote_file_name, stream=True)\n",
    "with open(local_filename, 'wb') as f:\n",
    "    f.write(r.content)\n",
    "print('Done writing local file:',local_filename)"
   ]
  },
  {
   "cell_type": "markdown",
   "metadata": {},
   "source": [
    "<h3>Show Alpha Diversity output for MVCO eukaryote data</h3>"
   ]
  },
  {
   "cell_type": "code",
   "execution_count": 15,
   "metadata": {},
   "outputs": [
    {
     "data": {
      "text/html": [
       "<style>.container { width:100% !important; }</style><table class='table'><tr><td>Dataset</td><td>observed richness</td><td>ACE</td><td>chao1</td><td>Shannon</td><td>Simpson</td></tr><tr><td>MVCO_ciliate_timeseries2--RG10join</td><td>3</td><td>4.125</td><td>3.0</td><td>0.00104311787583</td><td>0.0001297636222</td></tr><tr><td>MVCO_ciliate_timeseries2--RG11join</td><td>6</td><td>12.0</td><td>7.5</td><td>0.04560676973</td><td>0.00951792891686</td></tr><tr><td>MVCO_ciliate_timeseries2--RG12join</td><td>7</td><td>7.66666666667</td><td>7.0</td><td>0.0354457589366</td><td>0.00640060925154</td></tr><tr><td>MVCO_ciliate_timeseries2--RG13join</td><td>11</td><td>11.5204081633</td><td>11.0</td><td>0.260846073267</td><td>0.0568602997546</td></tr><tr><td>MVCO_ciliate_timeseries2--RG14join</td><td>3</td><td>3.0</td><td>3.0</td><td>0.00134989442722</td><td>0.000169181660708</td></tr><tr><td>MVCO_ciliate_timeseries2--RG15join</td><td>7</td><td>10.0106846063</td><td>10.0</td><td>0.00540072764325</td><td>0.000718990523862</td></tr><tr><td>MVCO_ciliate_timeseries2--RG16join</td><td>7</td><td>11.9393939394</td><td>10.0</td><td>0.00502377048831</td><td>0.000680516529676</td></tr><tr><td>MVCO_ciliate_timeseries2--RG17join</td><td>6</td><td>8.23140495868</td><td>7.0</td><td>0.00917918876043</td><td>0.00133804122773</td></tr><tr><td>MVCO_ciliate_timeseries2--RG18join</td><td>7</td><td>13.0</td><td>9.0</td><td>0.00670204393226</td><td>0.00088875304526</td></tr><tr><td>MVCO_ciliate_timeseries2--RG19join</td><td>3</td><td>3.0</td><td>3.0</td><td>0.0035240349061</td><td>0.000495072461672</td></tr><tr><td>MVCO_ciliate_timeseries2--RG1join</td><td>3</td><td>3.0</td><td>3.0</td><td>0.00476638591525</td><td>0.000707275755764</td></tr><tr><td>MVCO_ciliate_timeseries2--RG20join</td><td>1</td><td>1</td><td>1.0</td><td>-0.0</td><td>0.0</td></tr><tr><td>MVCO_ciliate_timeseries2--RG21join</td><td>8</td><td>10.9788636364</td><td>9.5</td><td>0.00885803621867</td><td>0.00122109405776</td></tr><tr><td>MVCO_ciliate_timeseries2--RG22join</td><td>2</td><td>2.0</td><td>2.0</td><td>0.000383999750695</td><td>4.55363037948e-05</td></tr><tr><td>MVCO_ciliate_timeseries2--RG23join</td><td>12</td><td>13.114</td><td>12.0</td><td>0.195696159803</td><td>0.0394835872277</td></tr><tr><td>MVCO_ciliate_timeseries2--RG24join</td><td>4</td><td>4.0</td><td>4.0</td><td>0.00223415779151</td><td>0.000287999235118</td></tr><tr><td>MVCO_ciliate_timeseries2--RG25join</td><td>2</td><td>2.0</td><td>2.0</td><td>0.000653949846503</td><td>8.16215479527e-05</td></tr><tr><td>MVCO_ciliate_timeseries2--RG26join</td><td>4</td><td>4.6</td><td>4.0</td><td>0.00234402340024</td><td>0.000300441896691</td></tr><tr><td>MVCO_ciliate_timeseries2--RG27join</td><td>2</td><td>2.0</td><td>2.0</td><td>0.00234202489886</td><td>0.000334840104457</td></tr><tr><td>MVCO_ciliate_timeseries2--RG2join</td><td>3</td><td>3</td><td>3.0</td><td>0.0880683069233</td><td>0.0195208406634</td></tr><tr><td>MVCO_ciliate_timeseries2--RG3join</td><td>7</td><td>11.1</td><td>10.0</td><td>0.00596615867956</td><td>0.00082230411232</td></tr><tr><td>MVCO_ciliate_timeseries2--RG4join</td><td>11</td><td>11.0</td><td>11.0</td><td>0.00896331927487</td><td>0.00121192004369</td></tr><tr><td>MVCO_ciliate_timeseries2--RG5join</td><td>6</td><td>7.92592592593</td><td>6.33333333333</td><td>0.00255916349948</td><td>0.000317831388424</td></tr><tr><td>MVCO_ciliate_timeseries2--RG6join</td><td>5</td><td>8.0</td><td>5.5</td><td>0.00381534236058</td><td>0.000523297777545</td></tr><tr><td>MVCO_ciliate_timeseries2--RG7join</td><td>5</td><td>5.3828125</td><td>5.0</td><td>0.00375926517535</td><td>0.000493984148847</td></tr><tr><td>MVCO_ciliate_timeseries2--RG8join</td><td>4</td><td>7.66666666667</td><td>5.0</td><td>0.00173689187976</td><td>0.000217350667892</td></tr><tr><td>MVCO_ciliate_timeseries2--RG9join</td><td>6</td><td>8.23931623932</td><td>6.5</td><td>0.00324179420978</td><td>0.000415669017758</td></tr></table>"
      ],
      "text/plain": [
       "<IPython.core.display.HTML object>"
      ]
     },
     "execution_count": 15,
     "metadata": {},
     "output_type": "execute_result"
    }
   ],
   "source": [
    "from IPython.core.display import display, HTML\n",
    "out = ''\n",
    "out = HTML(\"<style>.container { width:100% !important; }</style>\"+return_result)\n",
    "out"
   ]
  },
  {
   "cell_type": "markdown",
   "metadata": {},
   "source": [
    "<h3>Change configuration file to be for MVCO bacteria data, keeping everything else the same</h3>"
   ]
  },
  {
   "cell_type": "code",
   "execution_count": 16,
   "metadata": {
    "collapsed": true
   },
   "outputs": [],
   "source": [
    "#change config file project; Kristen's MVCO bacteria data\n",
    "config['project'] = 'AFP_MVCO_Bv6'"
   ]
  },
  {
   "cell_type": "markdown",
   "metadata": {},
   "source": [
    "<h3>Now use the same method as before to produce the visualization, first getting and displaying dataset IDs</h3>"
   ]
  },
  {
   "cell_type": "code",
   "execution_count": 17,
   "metadata": {},
   "outputs": [
    {
     "name": "stdout",
     "output_type": "stream",
     "text": [
      "[336411,336422,336433,336444,336455,336460,336461,336462,336463,336412,336413,336414,336415,336416,336418,336417,336419,336420,336421,336423,336424,336425,336426,336427,336428,336429,336430,336431,336432,336434,336435,336436,336437,336438,336439,336440,336441,336442,336443,336445,336446,336447,336448,336449,336450,336451,336452,336453,336454,336456,336457,336458,336459,336408,336409,336407,336410]\n"
     ]
    }
   ],
   "source": [
    "# get project ids:\n",
    "r = s.post(conn['hosturl']+'/api/get_dids_from_project', timeout=15, data=config)  \n",
    "config['ds_order'] = r.text\n",
    "print(config['ds_order'])"
   ]
  },
  {
   "cell_type": "markdown",
   "metadata": {},
   "source": [
    "<h3>Create remote configuration and get timestamp (file_prefix)</h3>"
   ]
  },
  {
   "cell_type": "code",
   "execution_count": 18,
   "metadata": {
    "collapsed": true
   },
   "outputs": [],
   "source": [
    "# Get timestamp (filename prefix):\n",
    "r = s.post(conn['hosturl']+'/visuals/view_selection', timeout=15, data=config)\n",
    "soup = BeautifulSoup(r.text, \"lxml\")  # html5lib  lxml html.parser\n",
    "\n",
    "ts = soup.find(id=\"ts_for_bs\").string"
   ]
  },
  {
   "cell_type": "markdown",
   "metadata": {},
   "source": [
    "<h3>Save matrix file which is integral to VAMPS images</h3>"
   ]
  },
  {
   "cell_type": "code",
   "execution_count": 19,
   "metadata": {
    "collapsed": true
   },
   "outputs": [],
   "source": [
    "import json\n",
    "biom_matrix_file = ts+'_count_matrix.biom'\n",
    "url = conn['hosturl']+\"/\"+biom_matrix_file\n",
    "response = requests.get(url, stream=True)\n",
    "response.raise_for_status()\n",
    "out_file = biom_matrix_file\n",
    "with open(out_file, \"wb\") as handle:\n",
    "    for block in response.iter_content(1024):\n",
    "        handle.write(block)"
   ]
  },
  {
   "cell_type": "markdown",
   "metadata": {},
   "source": [
    "<h3>Save image file</h3>"
   ]
  },
  {
   "cell_type": "code",
   "execution_count": 20,
   "metadata": {},
   "outputs": [
    {
     "name": "stdout",
     "output_type": "stream",
     "text": [
      "ruzics_1501776941950-adiversity-api.csv\n",
      "Done writing local file: ruzics_1501776941950-adiversity-api.csv\n"
     ]
    }
   ],
   "source": [
    "r = s.post(conn['hosturl']+'/api/create_image', timeout=30, data=config)\n",
    "\n",
    "try:\n",
    "    result = json.loads(r.text)\n",
    "except:\n",
    "    print(r.text)\n",
    "    sys.exit()\n",
    "local_filename = result['filename']\n",
    "return_result = result['html']\n",
    "print(local_filename)\n",
    "remote_file_name = conn['hosturl']+\"/\"+local_filename\n",
    "\n",
    "r = requests.get(remote_file_name, stream=True)\n",
    "with open(local_filename, 'wb') as f:\n",
    "    f.write(r.content)\n",
    "print('Done writing local file:',local_filename)"
   ]
  },
  {
   "cell_type": "markdown",
   "metadata": {},
   "source": [
    "<h3>Show Alpha Diversity output for MVCO bacteria data</h3>"
   ]
  },
  {
   "cell_type": "code",
   "execution_count": 21,
   "metadata": {},
   "outputs": [
    {
     "data": {
      "text/html": [
       "<style>.container { width:100% !important; }</style><table class='table'><tr><td>Dataset</td><td>observed richness</td><td>ACE</td><td>chao1</td><td>Shannon</td><td>Simpson</td></tr><tr><td>AFP_MVCO_Bv6--MVCO_254</td><td>31</td><td>35.613592166</td><td>34.3333333333</td><td>1.62536773265</td><td>0.51890790385</td></tr><tr><td>AFP_MVCO_Bv6--MVCO_257</td><td>30</td><td>30.5777777778</td><td>30.5</td><td>2.18848485814</td><td>0.712567822549</td></tr><tr><td>AFP_MVCO_Bv6--MVCO_258</td><td>29</td><td>30.4784780024</td><td>30.5</td><td>2.1382332799</td><td>0.694620929592</td></tr><tr><td>AFP_MVCO_Bv6--MVCO_259</td><td>31</td><td>31.3949879315</td><td>31.0</td><td>2.24160659536</td><td>0.719122841686</td></tr><tr><td>AFP_MVCO_Bv6--MVCO_260</td><td>29</td><td>29.5880233918</td><td>30.0</td><td>2.26941822502</td><td>0.730933965492</td></tr><tr><td>AFP_MVCO_Bv6--MVCO_261</td><td>32</td><td>35.0552832244</td><td>35.0</td><td>2.26547491787</td><td>0.723606218721</td></tr><tr><td>AFP_MVCO_Bv6--MVCO_262</td><td>31</td><td>31.2524594041</td><td>31.0</td><td>2.23801458889</td><td>0.728176538865</td></tr><tr><td>AFP_MVCO_Bv6--MVCO_263</td><td>32</td><td>34.4436181252</td><td>35.0</td><td>2.08951530054</td><td>0.684919019435</td></tr><tr><td>AFP_MVCO_Bv6--MVCO_265</td><td>29</td><td>29.3999047189</td><td>30.0</td><td>2.0223078724</td><td>0.676434599631</td></tr><tr><td>AFP_MVCO_Bv6--MVCO_266</td><td>29</td><td>29.7888791601</td><td>29.3333333333</td><td>2.12283215978</td><td>0.695957050951</td></tr><tr><td>AFP_MVCO_Bv6--MVCO_267</td><td>29</td><td>29.8636819069</td><td>30.0</td><td>2.31760746367</td><td>0.750241721008</td></tr><tr><td>AFP_MVCO_Bv6--MVCO_270</td><td>32</td><td>35.6790531517</td><td>37.0</td><td>2.12017919892</td><td>0.689781646666</td></tr><tr><td>AFP_MVCO_Bv6--MVCO_271</td><td>30</td><td>30.3580015026</td><td>30.0</td><td>2.30268360413</td><td>0.737048902874</td></tr><tr><td>AFP_MVCO_Bv6--MVCO_272</td><td>30</td><td>32.7423822715</td><td>32.0</td><td>2.26393335847</td><td>0.721217093779</td></tr><tr><td>AFP_MVCO_Bv6--MVCO_273</td><td>27</td><td>27.795776644</td><td>28.0</td><td>2.30043212425</td><td>0.7166479526</td></tr><tr><td>AFP_MVCO_Bv6--MVCO_274</td><td>30</td><td>30.2286090215</td><td>30.0</td><td>2.44142766464</td><td>0.748135711245</td></tr><tr><td>AFP_MVCO_Bv6--MVCO_275</td><td>30</td><td>30.3882490159</td><td>30.0</td><td>2.35743520827</td><td>0.734194698247</td></tr><tr><td>AFP_MVCO_Bv6--MVCO_276</td><td>31</td><td>33.0150427518</td><td>32.0</td><td>2.30250524714</td><td>0.723210520532</td></tr><tr><td>AFP_MVCO_Bv6--MVCO_278</td><td>30</td><td>30.3255527246</td><td>30.0</td><td>2.32195056885</td><td>0.7281350699</td></tr><tr><td>AFP_MVCO_Bv6--MVCO_279</td><td>31</td><td>34.7037524687</td><td>34.0</td><td>2.31049383121</td><td>0.731412688172</td></tr><tr><td>AFP_MVCO_Bv6--MVCO_280</td><td>31</td><td>34.9573317308</td><td>41.0</td><td>2.30691077779</td><td>0.739253538239</td></tr><tr><td>AFP_MVCO_Bv6--MVCO_281</td><td>32</td><td>35.3081818182</td><td>35.0</td><td>2.3597968307</td><td>0.727259833353</td></tr><tr><td>AFP_MVCO_Bv6--MVCO_282</td><td>29</td><td>29.0</td><td>29.0</td><td>2.31932797096</td><td>0.730218376364</td></tr><tr><td>AFP_MVCO_Bv6--MVCO_286</td><td>29</td><td>29.3559628503</td><td>29.0</td><td>2.38055167561</td><td>0.741471417711</td></tr><tr><td>AFP_MVCO_Bv6--MVCO_287</td><td>31</td><td>31.2695003257</td><td>31.0</td><td>2.36257731119</td><td>0.749791006881</td></tr><tr><td>AFP_MVCO_Bv6--MVCO_288</td><td>32</td><td>33.5113028683</td><td>33.0</td><td>2.39979107587</td><td>0.755998985387</td></tr><tr><td>AFP_MVCO_Bv6--MVCO_289</td><td>31</td><td>31.8214736842</td><td>31.3333333333</td><td>2.1990925361</td><td>0.712764331896</td></tr><tr><td>AFP_MVCO_Bv6--MVCO_290</td><td>30</td><td>30.5322686457</td><td>30.0</td><td>2.18569739802</td><td>0.711297208045</td></tr><tr><td>AFP_MVCO_Bv6--MVCO_291</td><td>31</td><td>32.509948474</td><td>31.5</td><td>2.27633629661</td><td>0.737600111206</td></tr><tr><td>AFP_MVCO_Bv6--MVCO_295</td><td>31</td><td>32.6847293856</td><td>34.0</td><td>2.2501677576</td><td>0.737067076271</td></tr><tr><td>AFP_MVCO_Bv6--MVCO_296</td><td>30</td><td>31.8485106383</td><td>31.5</td><td>2.31993103029</td><td>0.740070191287</td></tr><tr><td>AFP_MVCO_Bv6--MVCO_300</td><td>30</td><td>30.2494189777</td><td>30.0</td><td>2.2349947887</td><td>0.711045972719</td></tr><tr><td>AFP_MVCO_Bv6--MVCO_302</td><td>31</td><td>32.0255496138</td><td>31.5</td><td>2.42644458982</td><td>0.758986135232</td></tr><tr><td>AFP_MVCO_Bv6--MVCO_303</td><td>31</td><td>32.4629310345</td><td>32.5</td><td>2.38169938482</td><td>0.7456707851</td></tr><tr><td>AFP_MVCO_Bv6--MVCO_304</td><td>33</td><td>34.6970856894</td><td>33.75</td><td>2.29126262395</td><td>0.73418713987</td></tr><tr><td>AFP_MVCO_Bv6--MVCO_305</td><td>32</td><td>32.3216790123</td><td>32.0</td><td>2.32457255591</td><td>0.735675320423</td></tr><tr><td>AFP_MVCO_Bv6--MVCO_306</td><td>29</td><td>29.5208333333</td><td>29.0</td><td>2.38922913301</td><td>0.758182030286</td></tr><tr><td>AFP_MVCO_Bv6--MVCO_307</td><td>31</td><td>31.6719741797</td><td>32.0</td><td>2.210664502</td><td>0.730101259115</td></tr><tr><td>AFP_MVCO_Bv6--MVCO_308</td><td>30</td><td>31.3012311225</td><td>31.5</td><td>2.20885380894</td><td>0.732659399646</td></tr><tr><td>AFP_MVCO_Bv6--MVCO_309</td><td>32</td><td>33.9924751411</td><td>35.0</td><td>1.91983794762</td><td>0.642338977854</td></tr><tr><td>AFP_MVCO_Bv6--MVCO_310</td><td>30</td><td>30.0</td><td>30.0</td><td>2.20288146731</td><td>0.719732393981</td></tr><tr><td>AFP_MVCO_Bv6--MVCO_311</td><td>30</td><td>30.9142872119</td><td>30.3333333333</td><td>2.25207512702</td><td>0.73568003102</td></tr><tr><td>AFP_MVCO_Bv6--MVCO_312</td><td>30</td><td>31.4471655329</td><td>33.0</td><td>2.24187705716</td><td>0.740207646271</td></tr><tr><td>AFP_MVCO_Bv6--MVCO_313</td><td>30</td><td>33.3545007332</td><td>40.0</td><td>2.22512272456</td><td>0.736439569983</td></tr><tr><td>AFP_MVCO_Bv6--MVCO_314</td><td>31</td><td>32.0772365538</td><td>31.3333333333</td><td>2.31949727827</td><td>0.747196139304</td></tr><tr><td>AFP_MVCO_Bv6--MVCO_315</td><td>31</td><td>32.5321875</td><td>32.5</td><td>2.27141917059</td><td>0.727822891131</td></tr><tr><td>AFP_MVCO_Bv6--MVCO_316</td><td>32</td><td>34.2505412036</td><td>32.6</td><td>2.3945221213</td><td>0.753381883435</td></tr><tr><td>AFP_MVCO_Bv6--MVCO_317</td><td>29</td><td>29.3382595243</td><td>29.0</td><td>2.40793416742</td><td>0.75169461548</td></tr><tr><td>AFP_MVCO_Bv6--MVCO_318</td><td>31</td><td>32.7192982456</td><td>31.5</td><td>2.43040598497</td><td>0.761416131355</td></tr><tr><td>AFP_MVCO_Bv6--MVCO_319</td><td>32</td><td>33.1485714286</td><td>32.3333333333</td><td>2.4204161761</td><td>0.758663162203</td></tr><tr><td>AFP_MVCO_Bv6--MVCO_320</td><td>33</td><td>36.5829001074</td><td>36.0</td><td>2.37464148576</td><td>0.740680729532</td></tr><tr><td>AFP_MVCO_Bv6--MVCO_321</td><td>29</td><td>29.0</td><td>29.0</td><td>2.34625920928</td><td>0.741682890184</td></tr><tr><td>AFP_MVCO_Bv6--MVCO_322</td><td>32</td><td>34.2975778547</td><td>33.0</td><td>2.40488875018</td><td>0.752839238045</td></tr><tr><td>AFP_MVCO_Bv6--MVCO_august_2011</td><td>32</td><td>37.6632653061</td><td>37.0</td><td>2.15850662502</td><td>0.704817816826</td></tr><tr><td>AFP_MVCO_Bv6--MVCO_august_2011_180bp</td><td>15</td><td>18.5495955726</td><td>16.5</td><td>2.09570513845</td><td>0.694220717435</td></tr><tr><td>AFP_MVCO_Bv6--MVCO_march_2011</td><td>28</td><td>29.3729573462</td><td>31.0</td><td>1.83710001334</td><td>0.628995801577</td></tr><tr><td>AFP_MVCO_Bv6--MVCO_march_2011_180bp</td><td>12</td><td>20.0177777778</td><td>18.0</td><td>1.89317714283</td><td>0.656099078735</td></tr></table>"
      ],
      "text/plain": [
       "<IPython.core.display.HTML object>"
      ]
     },
     "execution_count": 21,
     "metadata": {},
     "output_type": "execute_result"
    }
   ],
   "source": [
    "out = ''\n",
    "out = HTML(\"<style>.container { width:100% !important; }</style>\"+return_result)\n",
    "out"
   ]
  },
  {
   "cell_type": "code",
   "execution_count": null,
   "metadata": {
    "collapsed": true
   },
   "outputs": [],
   "source": []
  }
 ],
 "metadata": {
  "kernelspec": {
   "display_name": "Python 3",
   "language": "python",
   "name": "python3"
  },
  "language_info": {
   "codemirror_mode": {
    "name": "ipython",
    "version": 3
   },
   "file_extension": ".py",
   "mimetype": "text/x-python",
   "name": "python",
   "nbconvert_exporter": "python",
   "pygments_lexer": "ipython3",
   "version": "3.6.0"
  }
 },
 "nbformat": 4,
 "nbformat_minor": 2
}
