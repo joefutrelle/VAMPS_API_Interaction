{
 "cells": [
  {
   "cell_type": "markdown",
   "metadata": {},
   "source": [
    "<h1>Interacting with the VAMPS-API</h1>\n",
    "<h2>Requirements:</h2> \n",
    "* **[Python](https://www.python.org/downloads/)**  \n",
    " * required Python modules: os, sys, BeautifulSoup, json, string, getpass, display, HTML, json\n",
    "* **[Anaconda](https://www.continuum.io/downloads)** \n",
    " * needed to run Jupyter notebook environment  \n",
    "   \n",
    "<h2>This notebook:</h2>\n",
    "<ul>\n",
    "<li>Logs into VAMPS account, if you don't have an account, use guest account (Username: 'guest', Password: 'guest')</li>\n",
    "<li>Produces a config file for MVCO eukaryote data, selecting the Alpha Diversity visualization</li>\n",
    "<li>Displays visualization using configuration file</li>\n",
    "<li>Takes the same configuration file, modifies the project to be for MVCO bacteria data</li>\n",
    "<li>Displays same vizualization using same constraints, with the different project</li>\n",
    "</ul>\n",
    "<h2>To use this notebook:</h2>\n",
    "<ul><li>Run jupyter enviroment locally by typing \"jupyter notebook\" into Terminal</li>\n",
    "<li>Make sure cells are cleared by clicking \"Cell\" -> \"All Output\" -> \"Clear\"</li>\n",
    "<li>Press run cell button</li>\n",
    "<li>Enter information if promtped</li>\n",
    "<li>Do not run the next cell if the previous cell has an asterisk next to \"In\" (\"In [*]:\"), this means it is still processing</li>\n",
    "<li>When the asterisk turns into any number, you can run the next cell</li></ul>"
   ]
  },
  {
   "cell_type": "markdown",
   "metadata": {},
   "source": [
    "<h3>Import relevant python packages; Allow both Python 2 and 3</h3>"
   ]
  },
  {
   "cell_type": "code",
   "execution_count": null,
   "metadata": {
    "collapsed": true
   },
   "outputs": [],
   "source": [
    "import os,sys\n",
    "import requests\n",
    "from bs4 import BeautifulSoup   # parser for html\n",
    "import json, string, getpass\n",
    "\n",
    "#to allow both Python 2 and 3\n",
    "try:\n",
    "    input = raw_input  \n",
    "except NameError: #Python 3\n",
    "    pass"
   ]
  },
  {
   "cell_type": "markdown",
   "metadata": {},
   "source": [
    "<h3>Gets VAMPS username and password, then attempts login to VAMPS</h3>"
   ]
  },
  {
   "cell_type": "code",
   "execution_count": null,
   "metadata": {},
   "outputs": [],
   "source": [
    "#get VAMPS username and password\n",
    "user = input(\"Enter your VAMPS username: \")\n",
    "pw = getpass.getpass(\"Enter your VAMPS password: \")\n",
    "\n",
    "conn = {'user': user,\n",
    "        'passwd': pw,\n",
    "         # vamps:             https://vamps2.mbl.edu\n",
    "         # vampsdev (private) http://vampsdev.jbpc-np.mbl.edu:8124 \n",
    "         # localhost:         http://localhost:3000 \n",
    "        'hosturl':'https://vamps2.mbl.edu'\n",
    "       }\n",
    "\n",
    "#attempt login to VAMPS\n",
    "s = requests.Session()\n",
    "r = s.post(conn['hosturl']+'/users/login', data={'username':conn['user'], 'password':conn['passwd']})"
   ]
  },
  {
   "cell_type": "markdown",
   "metadata": {},
   "source": [
    "<h3>If username/password is incorrect, exit program</h3>"
   ]
  },
  {
   "cell_type": "code",
   "execution_count": null,
   "metadata": {},
   "outputs": [],
   "source": [
    "#exit program if login unsuccessful\n",
    "if r.url == 'https://vamps2.mbl.edu/users/login':\n",
    "    sys.exit('Login not successful')\n",
    "elif r.url == 'https://vamps2.mbl.edu/':\n",
    "    print('Login successful')"
   ]
  },
  {
   "cell_type": "markdown",
   "metadata": {},
   "source": [
    "<h3>Option to upload an existing config file or see list of datasets (if not using guest account)</h3>"
   ]
  },
  {
   "cell_type": "code",
   "execution_count": null,
   "metadata": {},
   "outputs": [],
   "source": [
    "if user != 'guest':\n",
    "    upload = input(\"Do you want to use an already existing config file? ('Y' or 'N'): \")\n",
    "\n",
    "    #to upload config: \n",
    "    if upload[0].capitalize() == \"Y\":\n",
    "        file = input('Enter JSON Config File: ')\n",
    "        with open(file) as f:        \n",
    "            config = json.load(f)\n",
    "        id_list = 'N'\n",
    "    else:\n",
    "        id_list = input(\"Do you want to search through datasets or see all you have access to? ('Y' or 'N'): \")\n",
    "        print(\"Edit 'config' below to match preferences before running cell\")"
   ]
  },
  {
   "cell_type": "markdown",
   "metadata": {},
   "source": [
    "<h3>If selected, search through datasets</h3>"
   ]
  },
  {
   "cell_type": "code",
   "execution_count": null,
   "metadata": {},
   "outputs": [],
   "source": [
    "if id_list[0].capitalize() == \"Y\":\n",
    "    search = input(\"Enter dataset you are looking for to get a list of matches: \")\n",
    "    data = {\n",
    "   'search_string': search,  # If not empty will search for projects with string in \n",
    "                             # project name, title or description (case insensitive)\n",
    "   # Uncomment below line to include project information\n",
    "   #'include_info':''        # if present, data will include project information\n",
    "    }\n",
    "    r = s.post(conn['hosturl']+'/api/find_user_projects', timeout=15, data=data) \n",
    "    result = json.loads(r.text)\n",
    "    print(result)"
   ]
  },
  {
   "cell_type": "markdown",
   "metadata": {},
   "source": [
    "<h3>If a configuration file was not uploaded, set config using MVCO eukaryote data as project</h3>"
   ]
  },
  {
   "cell_type": "code",
   "execution_count": null,
   "metadata": {
    "collapsed": true
   },
   "outputs": [],
   "source": [
    "if upload[0].capitalize() == \"N\":\n",
    "    #default config (if not uploaded); Emily B.'s MVCO eukaryote data\n",
    "    config = {\n",
    "        \"api\":\"1\",\n",
    "        \"source\":\"VAMPS-API\",\n",
    "        \"update_data\":1,\n",
    "        \"normalization\":\"none\",               # none, maximum, frequency             \n",
    "        \"selected_distance\":\"morisita-horn\",  # morisita-horn, jaccard, kulczynski, canberra bray-curtis\n",
    "        \"tax_depth\":\"family\",                  # domain, phylum, klass, order, family, genus, species, strain\n",
    "        \"domains\":[\"Eukarya\"],                #[\"Archaea\",\"Bacteria\",\"Eukarya\",\"Organelle\",\"Unknown\"] \n",
    "        \"include_nas\":\"yes\",                  # yes or no             \n",
    "        \"min_range\":0,                        # integer 0-99\n",
    "        \"max_range\":100,                      # integer 1-100\n",
    "\n",
    "        # Must be a valid project - with correct permissions for the above user. \n",
    "        # Default is Emily B.'s MVCO eukaryote data\n",
    "        'project':'MVCO_ciliate_timeseries2',   \n",
    "        \n",
    "        # Currently avalable: \"dheatmap\", \"piecharts\", \"barcharts\", \"counts_matrix\", \"metadata_csv\", \"adiversity\", \"fheatmap\", \"dendrogram\" \n",
    "        # Default is Alpha Diversity visualization\n",
    "        'image':'piecharts'\n",
    "        } "
   ]
  },
  {
   "cell_type": "markdown",
   "metadata": {},
   "source": [
    "<h3>Get and display dataset IDs for selected project</h3>"
   ]
  },
  {
   "cell_type": "code",
   "execution_count": null,
   "metadata": {},
   "outputs": [],
   "source": [
    "# get project ids:\n",
    "r = s.post(conn['hosturl']+'/api/get_dids_from_project', timeout=15, data=config)  \n",
    "config['ds_order'] = r.text\n",
    "print(config['ds_order'])"
   ]
  },
  {
   "cell_type": "markdown",
   "metadata": {},
   "source": [
    "<h3>Create remote configuration and get timestamp (file_prefix)</h3>"
   ]
  },
  {
   "cell_type": "code",
   "execution_count": null,
   "metadata": {},
   "outputs": [],
   "source": [
    "# Get timestamp to be used as a prefix for files:\n",
    "r = s.post(conn['hosturl']+'/visuals/view_selection', timeout=15, data=config)\n",
    "soup = BeautifulSoup(r.text, \"lxml\")  # html5lib  lxml html.parser\n",
    "\n",
    "ts = soup.find(id=\"ts_for_bs\").string\n",
    "print(\"Timestamp/file prefix:\",ts)"
   ]
  },
  {
   "cell_type": "markdown",
   "metadata": {},
   "source": [
    "<h3>Save matrix file which is integral to VAMPS images</h3>"
   ]
  },
  {
   "cell_type": "code",
   "execution_count": null,
   "metadata": {
    "collapsed": true
   },
   "outputs": [],
   "source": [
    "import json\n",
    "biom_matrix_file = ts+'_count_matrix.biom'\n",
    "url = conn['hosturl']+\"/\"+biom_matrix_file\n",
    "response = requests.get(url, stream=True)\n",
    "response.raise_for_status()\n",
    "out_file = biom_matrix_file\n",
    "with open(out_file, \"wb\") as handle:\n",
    "    for block in response.iter_content(1024):\n",
    "        handle.write(block)"
   ]
  },
  {
   "cell_type": "markdown",
   "metadata": {},
   "source": [
    "<h3>Save VAMPS visualization output file</h3>"
   ]
  },
  {
   "cell_type": "code",
   "execution_count": null,
   "metadata": {},
   "outputs": [],
   "source": [
    "r = s.post(conn['hosturl']+'/api/create_image', timeout=30, data=config)\n",
    "\n",
    "try:\n",
    "    result = json.loads(r.text)\n",
    "except:\n",
    "    print(r.text)\n",
    "    sys.exit()\n",
    "local_filename = result['filename']\n",
    "return_result = result['html']\n",
    "print(local_filename)\n",
    "remote_file_name = conn['hosturl']+\"/\"+local_filename\n",
    "\n",
    "r = requests.get(remote_file_name, stream=True)\n",
    "with open(local_filename, 'wb') as f:\n",
    "    f.write(r.content)\n",
    "print('Done writing local file:',local_filename)"
   ]
  },
  {
   "cell_type": "markdown",
   "metadata": {},
   "source": [
    "<h3>Show visualization output for first dataset</h3>"
   ]
  },
  {
   "cell_type": "code",
   "execution_count": null,
   "metadata": {},
   "outputs": [],
   "source": [
    "from IPython.core.display import display, HTML\n",
    "out = ''\n",
    "out = HTML(\"<style>.container { width:100% !important; }</style>\"+return_result)\n",
    "out"
   ]
  },
  {
   "cell_type": "markdown",
   "metadata": {},
   "source": [
    "<h3>Get project Metadata</h3>"
   ]
  },
  {
   "cell_type": "code",
   "execution_count": null,
   "metadata": {},
   "outputs": [],
   "source": [
    "data = {\"project\": config['project']}\n",
    "r = s.post(conn['hosturl']+'/api/get_metadata_from_project', timeout=15, data=data)  \n",
    "result = json.loads(r.text)\n",
    "print(\"Loaded metadata\")"
   ]
  },
  {
   "cell_type": "markdown",
   "metadata": {},
   "source": [
    "<h3>Format and show sample of Metadata</h3>"
   ]
  },
  {
   "cell_type": "code",
   "execution_count": null,
   "metadata": {},
   "outputs": [],
   "source": [
    "count = 0\n",
    "for ids in result:\n",
    "    if count >= 3:\n",
    "        continue\n",
    "    print(\"Dataset ID\",ids)\n",
    "    print(\"    \",\"Adapter Sequence:\",result[ids]['adapter_sequence'])\n",
    "    print(\"    \",\"Geo Location Name:\",result[ids]['geo_loc_name'])\n",
    "    print(\"    \",\"Run:\",result[ids]['run'])\n",
    "    print(\"    \",\"Collection Date:\",result[ids]['collection_date'])\n",
    "    print(\"    \",\"Environment Material:\",result[ids]['env_material'])\n",
    "    print(\"    \", \"DNA Region:\",result[ids]['dna_region'])\n",
    "    print(\"    \",\"Environment Biome:\",result[ids][\"env_biome\"])\n",
    "    print(\"    \",\"Environment Package:\",result[ids][\"env_package\"])\n",
    "    print(\"    \",\"Environment Feature:\",result[ids][\"env_feature\"])\n",
    "    print(\"    \",\"Latitude:\",result[ids]['latitude'])\n",
    "    print(\"    \",\"Longitude:\",result[ids]['longitude'])\n",
    "    print(\"    \",\"Primer Suite:\",result[ids]['primer_suite'])\n",
    "    print(\"    \",\"Sequencing Platform:\",result[ids][\"sequencing_platform\"])\n",
    "    print(\"    \",\"Target Gene:\",result[ids][\"target_gene\"])\n",
    "    print(\"    \",\"Illumina Index:\",result[ids][\"illumina_index\"])\n",
    "    print(\"    \",\"Domain:\",result[ids][\"domain\"])\n",
    "    print(\"\")\n",
    "    count += 1"
   ]
  },
  {
   "cell_type": "markdown",
   "metadata": {},
   "source": [
    "<h3>Use the same configuration file, modify it as necessary</h3>"
   ]
  },
  {
   "cell_type": "code",
   "execution_count": null,
   "metadata": {
    "collapsed": true
   },
   "outputs": [],
   "source": [
    "#change config file project to Kristen's MVCO bacteria data\n",
    "config['project'] = 'AFP_MVCO_Bv6'\n",
    "config['domains'] = [\"Bacteria\"]"
   ]
  },
  {
   "cell_type": "markdown",
   "metadata": {},
   "source": [
    "<h3>Now use the same method as before to produce the visualization, first getting and displaying dataset IDs</h3>"
   ]
  },
  {
   "cell_type": "code",
   "execution_count": null,
   "metadata": {},
   "outputs": [],
   "source": [
    "# get project ids:\n",
    "r = s.post(conn['hosturl']+'/api/get_dids_from_project', timeout=15, data=config)  \n",
    "config['ds_order'] = r.text\n",
    "print(config['ds_order'])"
   ]
  },
  {
   "cell_type": "markdown",
   "metadata": {},
   "source": [
    "<h3>Create remote configuration and get timestamp (file_prefix)</h3>"
   ]
  },
  {
   "cell_type": "code",
   "execution_count": null,
   "metadata": {},
   "outputs": [],
   "source": [
    "# Get timestamp (filename prefix):\n",
    "r = s.post(conn['hosturl']+'/visuals/view_selection', timeout=15, data=config)\n",
    "soup = BeautifulSoup(r.text, \"lxml\")  # html5lib  lxml html.parser\n",
    "\n",
    "ts = soup.find(id=\"ts_for_bs\").string\n",
    "print(\"Timestamp/file prefix:\",ts)"
   ]
  },
  {
   "cell_type": "markdown",
   "metadata": {},
   "source": [
    "<h3>Save matrix file which is integral to VAMPS images</h3>"
   ]
  },
  {
   "cell_type": "code",
   "execution_count": null,
   "metadata": {
    "collapsed": true
   },
   "outputs": [],
   "source": [
    "import json\n",
    "biom_matrix_file = ts+'_count_matrix.biom'\n",
    "url = conn['hosturl']+\"/\"+biom_matrix_file\n",
    "response = requests.get(url, stream=True)\n",
    "response.raise_for_status()\n",
    "out_file = biom_matrix_file\n",
    "with open(out_file, \"wb\") as handle:\n",
    "    for block in response.iter_content(1024):\n",
    "        handle.write(block)"
   ]
  },
  {
   "cell_type": "markdown",
   "metadata": {},
   "source": [
    "<h3>Save image file</h3>"
   ]
  },
  {
   "cell_type": "code",
   "execution_count": null,
   "metadata": {},
   "outputs": [],
   "source": [
    "r = s.post(conn['hosturl']+'/api/create_image', timeout=30, data=config)\n",
    "\n",
    "try:\n",
    "    result = json.loads(r.text)\n",
    "except:\n",
    "    print(r.text)\n",
    "    sys.exit()\n",
    "local_filename = result['filename']\n",
    "return_result = result['html']\n",
    "print(local_filename)\n",
    "remote_file_name = conn['hosturl']+\"/\"+local_filename\n",
    "\n",
    "r = requests.get(remote_file_name, stream=True)\n",
    "with open(local_filename, 'wb') as f:\n",
    "    f.write(r.content)\n",
    "print('Done writing local file:',local_filename)"
   ]
  },
  {
   "cell_type": "markdown",
   "metadata": {},
   "source": [
    "<h3>Show visualization output for second project</h3>"
   ]
  },
  {
   "cell_type": "code",
   "execution_count": null,
   "metadata": {},
   "outputs": [],
   "source": [
    "out = ''\n",
    "out = HTML(\"<style>.container { width:100% !important; }</style>\"+return_result)\n",
    "out"
   ]
  },
  {
   "cell_type": "markdown",
   "metadata": {},
   "source": [
    "<h3>Get project Metadata</h3>"
   ]
  },
  {
   "cell_type": "code",
   "execution_count": null,
   "metadata": {
    "collapsed": true
   },
   "outputs": [],
   "source": [
    "data = {\"project\": config['project']}\n",
    "r = s.post(conn['hosturl']+'/api/get_metadata_from_project', timeout=15, data=data)  \n",
    "result = json.loads(r.text)\n",
    "print(\"Loaded metadata\")"
   ]
  },
  {
   "cell_type": "markdown",
   "metadata": {},
   "source": [
    "<h3>Format and show sample of Metadata</h3>"
   ]
  },
  {
   "cell_type": "code",
   "execution_count": null,
   "metadata": {},
   "outputs": [],
   "source": [
    "count = 0\n",
    "for ids in result:\n",
    "    if count >= 3:\n",
    "        continue\n",
    "    print(\"Dataset ID\",ids)\n",
    "    print(\"    \",\"Adapter Sequence:\",result[ids]['adapter_sequence'])\n",
    "    print(\"    \",\"Geo Location Name:\",result[ids]['geo_loc_name'])\n",
    "    print(\"    \",\"Run:\",result[ids]['run'])\n",
    "    print(\"    \",\"Collection Date:\",result[ids]['collection_date'])\n",
    "    print(\"    \",\"Environment Material:\",result[ids]['env_material'])\n",
    "    print(\"    \", \"DNA Region:\",result[ids]['dna_region'])\n",
    "    print(\"    \",\"Environment Biome:\",result[ids][\"env_biome\"])\n",
    "    print(\"    \",\"Environment Package:\",result[ids][\"env_package\"])\n",
    "    print(\"    \",\"Environment Feature:\",result[ids][\"env_feature\"])\n",
    "    print(\"    \",\"Latitude:\",result[ids]['latitude'])\n",
    "    print(\"    \",\"Longitude:\",result[ids]['longitude'])\n",
    "    print(\"    \",\"Primer Suite:\",result[ids]['primer_suite'])\n",
    "    print(\"    \",\"Sequencing Platform:\",result[ids][\"sequencing_platform\"])\n",
    "    print(\"    \",\"Target Gene:\",result[ids][\"target_gene\"])\n",
    "    print(\"    \",\"Illumina Index:\",result[ids][\"illumina_index\"])\n",
    "    print(\"    \",\"Domain:\",result[ids][\"domain\"])\n",
    "    print(\"\")\n",
    "    count += 1"
   ]
  }
 ],
 "metadata": {
  "kernelspec": {
   "display_name": "Python 3",
   "language": "python",
   "name": "python3"
  },
  "language_info": {
   "codemirror_mode": {
    "name": "ipython",
    "version": 3
   },
   "file_extension": ".py",
   "mimetype": "text/x-python",
   "name": "python",
   "nbconvert_exporter": "python",
   "pygments_lexer": "ipython3",
   "version": "3.6.0"
  }
 },
 "nbformat": 4,
 "nbformat_minor": 2
}
