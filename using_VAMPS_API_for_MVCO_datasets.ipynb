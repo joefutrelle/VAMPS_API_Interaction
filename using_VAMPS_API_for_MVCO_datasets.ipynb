{
 "cells": [
  {
   "cell_type": "markdown",
   "metadata": {},
   "source": [
    "# Interacting with the VAMPS-API\n",
    "## Requirements:\n",
    "* **[Python](https://www.python.org/downloads/)**  \n",
    " * required external packages: BeautifulSoup, lxml, requests\n",
    "* **[Anaconda](https://www.continuum.io/downloads)** \n",
    " * needed to run Jupyter notebook environment  \n",
    "   \n",
    "## This notebook:\n",
    "* Logs into VAMPS account  \n",
    " * if you don't have an account, use guest account (Username: 'guest', Password: 'guest')\n",
    "* Produces a configuration file for a selected project \n",
    " * Default: Eukaryote data from the Martha's Vineyard Coastal Observatory (MVCO), selecting one of several visualizations (default: piecharts)\n",
    "* Displays visualization and saves time-stamped matrix and image files to local computer\n",
    "* Uses geographic metadata for the first project to discover a second project at the same location  \n",
    " * Default: MVCO bacteria data\n",
    "* Modifies the first configuration file to be able to use it for the second project\n",
    "* Displays same visualization and saves files for the second project\n",
    "\n",
    "## To use this notebook:\n",
    "* Run jupyter enviroment locally by typing \"jupyter notebook\" into Terminal\n",
    "* Make sure cells are cleared by clicking \"Cell\" -> \"All Output\" -> \"Clear\"\n",
    "* Press run cell button\n",
    "* Enter information if promtped   \n",
    "* Do not run the next cell if the previous cell has an asterisk next to \"In\" (\"In [*]:\"), this means it is still processing  \n",
    "* When the asterisk turns into any number, you can run the next cell  "
   ]
  },
  {
   "cell_type": "markdown",
   "metadata": {},
   "source": [
    "<h3>Import relevant python packages; Allow both Python 2 and 3</h3>"
   ]
  },
  {
   "cell_type": "code",
   "execution_count": null,
   "metadata": {
    "collapsed": true
   },
   "outputs": [],
   "source": [
    "import os,sys\n",
    "import requests\n",
    "from bs4 import BeautifulSoup   # parser for html\n",
    "import json, string, getpass\n",
    "\n",
    "#to allow both Python 2 and 3\n",
    "try:\n",
    "    input = raw_input  \n",
    "except NameError: #Python 3\n",
    "    pass"
   ]
  },
  {
   "cell_type": "markdown",
   "metadata": {},
   "source": [
    "<h3>Gets VAMPS username and password, then attempts login to VAMPS</h3>"
   ]
  },
  {
   "cell_type": "code",
   "execution_count": null,
   "metadata": {},
   "outputs": [],
   "source": [
    "#get VAMPS username and password\n",
    "user = input(\"Enter your VAMPS username: \")\n",
    "pw = getpass.getpass(\"Enter your VAMPS password: \")\n",
    "\n",
    "conn = {'user': user,\n",
    "        'passwd': pw,\n",
    "         # vamps:             https://vamps2.mbl.edu\n",
    "         # vampsdev (private) http://vampsdev.jbpc-np.mbl.edu:8124 \n",
    "         # localhost:         http://localhost:3000 \n",
    "        'hosturl':'https://vamps2.mbl.edu'\n",
    "       }\n",
    "\n",
    "#attempt login to VAMPS\n",
    "s = requests.Session()\n",
    "r = s.post(conn['hosturl']+'/users/login', data={'username':conn['user'], 'password':conn['passwd']})"
   ]
  },
  {
   "cell_type": "markdown",
   "metadata": {},
   "source": [
    "<h3>If username/password is incorrect, exit program</h3>"
   ]
  },
  {
   "cell_type": "code",
   "execution_count": null,
   "metadata": {},
   "outputs": [],
   "source": [
    "#exit program if login unsuccessful\n",
    "if r.url == 'https://vamps2.mbl.edu/users/login':\n",
    "    sys.exit('Login not successful')\n",
    "elif r.url == 'https://vamps2.mbl.edu/':\n",
    "    print('Login successful')"
   ]
  },
  {
   "cell_type": "markdown",
   "metadata": {},
   "source": [
    "<h3>Option to upload an existing config file or see list of datasets (if not using guest account)</h3>"
   ]
  },
  {
   "cell_type": "code",
   "execution_count": null,
   "metadata": {},
   "outputs": [],
   "source": [
    "if user != 'guest':\n",
    "    upload = input(\"Do you want to use an already existing config file? ('Y' or 'N'): \")\n",
    "\n",
    "    #to upload config: \n",
    "    if upload[0].capitalize() == \"Y\":\n",
    "        file = input('Enter JSON Config File: ')\n",
    "        with open(file) as f:        \n",
    "            config = json.load(f)\n",
    "        id_list = 'N'\n",
    "    else:\n",
    "        id_list = input(\"Do you want to search through datasets or see all you have access to? ('Y' or 'N'): \")"
   ]
  },
  {
   "cell_type": "markdown",
   "metadata": {},
   "source": [
    "<h3>If selected, search through datasets</h3>"
   ]
  },
  {
   "cell_type": "code",
   "execution_count": null,
   "metadata": {},
   "outputs": [],
   "source": [
    "if user == 'guest':\n",
    "    upload = \"N\"\n",
    "    id_list = input(\"Do you want to search through datasets or see all you have access to? ('Y' or 'N'): \")\n",
    "    print(\"Edit 'config' below to match preferences before running cell\")\n",
    "    \n",
    "if id_list[0].capitalize() == \"Y\":\n",
    "    search = input(\"Enter dataset you are looking for to get a list of matches: \")\n",
    "    data = {\n",
    "   'search_string': search,  # If not empty will search for projects with string in \n",
    "                             # project name, title or description (case insensitive)\n",
    "   # Uncomment below line to include project information\n",
    "   #'include_info':''        # if present, data will include project information\n",
    "    }\n",
    "    r = s.post(conn['hosturl']+'/api/find_user_projects', timeout=15, data=data) \n",
    "    result = json.loads(r.text)\n",
    "    print(result)"
   ]
  },
  {
   "cell_type": "markdown",
   "metadata": {},
   "source": [
    "<h3>If a configuration file was not uploaded or you are using guest account, set config using MVCO eukaryote data as default project</h3>"
   ]
  },
  {
   "cell_type": "code",
   "execution_count": null,
   "metadata": {
    "collapsed": true
   },
   "outputs": [],
   "source": [
    "if upload[0].capitalize() == \"N\":\n",
    "    #default config (if not uploaded); Emily B.'s MVCO eukaryote data\n",
    "    config = {\n",
    "        \"api\":\"1\",\n",
    "        \"source\":\"VAMPS-API\",\n",
    "        \"update_data\":1,\n",
    "        \"normalization\":\"none\",               # none, maximum, frequency             \n",
    "        \"selected_distance\":\"morisita-horn\",  # morisita-horn, jaccard, kulczynski, canberra bray-curtis\n",
    "        \"tax_depth\":\"family\",                  # domain, phylum, klass, order, family, genus, species, strain\n",
    "        \"domains\":[\"Eukarya\"],                #[\"Archaea\",\"Bacteria\",\"Eukarya\",\"Organelle\",\"Unknown\"] \n",
    "        \"include_nas\":\"yes\",                  # yes or no             \n",
    "        \"min_range\":0,                        # integer 0-99\n",
    "        \"max_range\":100,                      # integer 1-100\n",
    "\n",
    "        # Must be a valid project - with correct permissions for the above user. \n",
    "        # Default is Emily B.'s MVCO eukaryote data\n",
    "        'project':'MVCO_ciliate_timeseries2',   \n",
    "        \n",
    "        # Currently avalable: \"dheatmap\", \"piecharts\", \"barcharts\", \"counts_matrix\", \"metadata_csv\", \"adiversity\", \"fheatmap\", \"dendrogram\" \n",
    "        # Default is Alpha Diversity visualization\n",
    "        'image':'piecharts'\n",
    "        } "
   ]
  },
  {
   "cell_type": "markdown",
   "metadata": {},
   "source": [
    "<h3>Get and display dataset IDs for selected project</h3>"
   ]
  },
  {
   "cell_type": "code",
   "execution_count": null,
   "metadata": {},
   "outputs": [],
   "source": [
    "# get project ids:\n",
    "r = s.post(conn['hosturl']+'/api/get_dids_from_project', timeout=15, data=config)  \n",
    "config['ds_order'] = r.text\n",
    "print(config['ds_order'])"
   ]
  },
  {
   "cell_type": "markdown",
   "metadata": {},
   "source": [
    "<h3>Create remote configuration and get timestamp (file_prefix)</h3>"
   ]
  },
  {
   "cell_type": "code",
   "execution_count": null,
   "metadata": {},
   "outputs": [],
   "source": [
    "# Get timestamp to be used as a prefix for files:\n",
    "r = s.post(conn['hosturl']+'/visuals/view_selection', timeout=15, data=config)\n",
    "soup = BeautifulSoup(r.text, \"lxml\")  # html5lib  lxml html.parser\n",
    "\n",
    "ts = soup.find(id=\"ts_for_bs\").string\n",
    "print(\"Timestamp/file prefix:\",ts)"
   ]
  },
  {
   "cell_type": "markdown",
   "metadata": {},
   "source": [
    "<h3>Save matrix file which is integral to VAMPS images</h3>"
   ]
  },
  {
   "cell_type": "code",
   "execution_count": null,
   "metadata": {
    "collapsed": true
   },
   "outputs": [],
   "source": [
    "import json\n",
    "biom_matrix_file = ts+'_count_matrix.biom'\n",
    "url = conn['hosturl']+\"/\"+biom_matrix_file\n",
    "response = requests.get(url, stream=True)\n",
    "response.raise_for_status()\n",
    "out_file = biom_matrix_file\n",
    "with open(out_file, \"wb\") as handle:\n",
    "    for block in response.iter_content(1024):\n",
    "        handle.write(block)"
   ]
  },
  {
   "cell_type": "markdown",
   "metadata": {},
   "source": [
    "<h3>Save VAMPS visualization output file</h3>"
   ]
  },
  {
   "cell_type": "code",
   "execution_count": null,
   "metadata": {},
   "outputs": [],
   "source": [
    "r = s.post(conn['hosturl']+'/api/create_image', timeout=30, data=config)\n",
    "\n",
    "try:\n",
    "    result = json.loads(r.text)\n",
    "except:\n",
    "    print(r.text)\n",
    "    sys.exit()\n",
    "local_filename = result['filename']\n",
    "return_result = result['html']\n",
    "print(local_filename)\n",
    "remote_file_name = conn['hosturl']+\"/\"+local_filename\n",
    "\n",
    "r = requests.get(remote_file_name, stream=True)\n",
    "with open(local_filename, 'wb') as f:\n",
    "    f.write(r.content)\n",
    "print('Done writing local file:',local_filename)"
   ]
  },
  {
   "cell_type": "markdown",
   "metadata": {},
   "source": [
    "<h3>Show visualization output for first dataset</h3>"
   ]
  },
  {
   "cell_type": "code",
   "execution_count": null,
   "metadata": {},
   "outputs": [],
   "source": [
    "from IPython.core.display import display, HTML\n",
    "out = ''\n",
    "out = HTML(\"<style>.container { width:100% !important; }</style>\"+return_result)\n",
    "out"
   ]
  },
  {
   "cell_type": "markdown",
   "metadata": {},
   "source": [
    "<h3>Get project Metadata</h3>"
   ]
  },
  {
   "cell_type": "code",
   "execution_count": null,
   "metadata": {},
   "outputs": [],
   "source": [
    "data = {\"project\": config['project']}\n",
    "r = s.post(conn['hosturl']+'/api/get_metadata_from_project', timeout=15, data=data)  \n",
    "result = json.loads(r.text)\n",
    "print(\"Loaded metadata\")"
   ]
  },
  {
   "cell_type": "markdown",
   "metadata": {},
   "source": [
    "<h3>Format and show sample of Metadata, saving Latitude and Longitude information</h3>"
   ]
  },
  {
   "cell_type": "code",
   "execution_count": null,
   "metadata": {},
   "outputs": [],
   "source": [
    "data_lat = ''\n",
    "data_long = ''\n",
    "count = 0\n",
    "\n",
    "for ids in result:\n",
    "    if count == 3:\n",
    "        continue\n",
    "    count += 1\n",
    "    for mdname in result[ids]:\n",
    "        print(mdname + \": \" + result[ids][mdname])\n",
    "        if mdname == \"longitude\":\n",
    "            data_long = result[ids][mdname]\n",
    "        elif mdname == \"latitude\":\n",
    "            data_lat = result[ids][mdname]\n",
    "    print()"
   ]
  },
  {
   "cell_type": "markdown",
   "metadata": {},
   "source": [
    "### Use first project latitude/longitude metadata to search for next project name\n",
    "### If MVCO Bacteria dataset is found, change config file"
   ]
  },
  {
   "cell_type": "code",
   "execution_count": null,
   "metadata": {},
   "outputs": [],
   "source": [
    "found = 'N'\n",
    "\n",
    "data = {'nw_lat': data_lat,'nw_lon': data_long,'se_lat':'','se_lon':''}\n",
    "r = s.post(conn['hosturl']+'/api/find_projects_in_geo_area', timeout=15, data=data)  \n",
    "result = json.loads(r.text)\n",
    "\n",
    "for sets in result:\n",
    "    if sets == 'AFP_MVCO_Bv6':\n",
    "        print(\"Found second project dataset using latitude/longitude data\")\n",
    "        #if MVCO bacteria data is found, change config project\n",
    "        config['project'] = sets\n",
    "        found = 'Y'"
   ]
  },
  {
   "cell_type": "markdown",
   "metadata": {},
   "source": [
    "### If second project wasn't found using latitude/longitude metadata, use the same configuration file and modify it as necessary"
   ]
  },
  {
   "cell_type": "code",
   "execution_count": null,
   "metadata": {
    "collapsed": true
   },
   "outputs": [],
   "source": [
    "#change config file project to second project if not found using lat/long metadata\n",
    "if found[0].capitalize() == 'N':\n",
    "    config['project'] = 'AFP_MVCO_Bv6'\n",
    "config['domains'] = [\"Bacteria\"]\n",
    "config[\"tax_depth\"] = \"family\""
   ]
  },
  {
   "cell_type": "markdown",
   "metadata": {},
   "source": [
    "### Now use the same method as before to produce the visualization, first getting and displaying dataset IDs\n",
    "### Exclude 4 datasets from second project"
   ]
  },
  {
   "cell_type": "code",
   "execution_count": null,
   "metadata": {},
   "outputs": [],
   "source": [
    "# get project ids:\n",
    "r = s.post(conn['hosturl']+'/api/get_dids_from_project', timeout=15, data=config)  \n",
    "config['ds_order'] = r.text\n",
    "# exclude 4 datasets\n",
    "if config['project'] == 'AFP_MVCO_Bv6':\n",
    "    #get datasets (string form)\n",
    "    temp = config['ds_order']\n",
    "    #convert string to list in order to remove datasets\n",
    "    temp = temp.strip('[').strip(']').split(',')\n",
    "    temp.remove('336408')\n",
    "    temp.remove('336409')\n",
    "    temp.remove('336407')\n",
    "    temp.remove('336410')\n",
    "    #convert back to string form\n",
    "    temp = (\",\").join(temp)\n",
    "    temp = '[' + temp + ']'\n",
    "    #set temp datasets to replace ds_order in config\n",
    "    config['ds_order'] = temp\n",
    "print(config['ds_order'])"
   ]
  },
  {
   "cell_type": "markdown",
   "metadata": {},
   "source": [
    "<h3>Create remote configuration and get timestamp (file_prefix)</h3>"
   ]
  },
  {
   "cell_type": "code",
   "execution_count": null,
   "metadata": {},
   "outputs": [],
   "source": [
    "# Get timestamp (filename prefix):\n",
    "r = s.post(conn['hosturl']+'/visuals/view_selection', timeout=15, data=config)\n",
    "soup = BeautifulSoup(r.text, \"lxml\")  # html5lib  lxml html.parser\n",
    "\n",
    "ts = soup.find(id=\"ts_for_bs\").string\n",
    "print(\"Timestamp/file prefix:\",ts)"
   ]
  },
  {
   "cell_type": "markdown",
   "metadata": {},
   "source": [
    "<h3>Save matrix file which is integral to VAMPS images</h3>"
   ]
  },
  {
   "cell_type": "code",
   "execution_count": null,
   "metadata": {
    "collapsed": true
   },
   "outputs": [],
   "source": [
    "import json\n",
    "biom_matrix_file = ts+'_count_matrix.biom'\n",
    "url = conn['hosturl']+\"/\"+biom_matrix_file\n",
    "response = requests.get(url, stream=True)\n",
    "response.raise_for_status()\n",
    "out_file = biom_matrix_file\n",
    "with open(out_file, \"wb\") as handle:\n",
    "    for block in response.iter_content(1024):\n",
    "        handle.write(block)"
   ]
  },
  {
   "cell_type": "markdown",
   "metadata": {},
   "source": [
    "<h3>Save image file</h3>"
   ]
  },
  {
   "cell_type": "code",
   "execution_count": null,
   "metadata": {},
   "outputs": [],
   "source": [
    "r = s.post(conn['hosturl']+'/api/create_image', timeout=30, data=config)\n",
    "\n",
    "try:\n",
    "    result = json.loads(r.text)\n",
    "except:\n",
    "    print(r.text)\n",
    "    sys.exit()\n",
    "local_filename = result['filename']\n",
    "return_result = result['html']\n",
    "print(local_filename)\n",
    "remote_file_name = conn['hosturl']+\"/\"+local_filename\n",
    "\n",
    "r = requests.get(remote_file_name, stream=True)\n",
    "with open(local_filename, 'wb') as f:\n",
    "    f.write(r.content)\n",
    "print('Done writing local file:',local_filename)"
   ]
  },
  {
   "cell_type": "markdown",
   "metadata": {},
   "source": [
    "<h3>Show visualization output for second project</h3>"
   ]
  },
  {
   "cell_type": "code",
   "execution_count": null,
   "metadata": {},
   "outputs": [],
   "source": [
    "out = ''\n",
    "out = HTML(\"<style>.container { width:100% !important; }</style>\"+return_result)\n",
    "out"
   ]
  },
  {
   "cell_type": "markdown",
   "metadata": {},
   "source": [
    "<h3>Get project Metadata</h3>"
   ]
  },
  {
   "cell_type": "code",
   "execution_count": null,
   "metadata": {},
   "outputs": [],
   "source": [
    "data = {\"project\": config['project']}\n",
    "r = s.post(conn['hosturl']+'/api/get_metadata_from_project', timeout=15, data=data)  \n",
    "result = json.loads(r.text)\n",
    "print(\"Loaded metadata\")"
   ]
  },
  {
   "cell_type": "markdown",
   "metadata": {},
   "source": [
    "<h3>Format and show sample of Metadata</h3>"
   ]
  },
  {
   "cell_type": "code",
   "execution_count": null,
   "metadata": {},
   "outputs": [],
   "source": [
    "data_lat = ''\n",
    "data_long = ''\n",
    "count = 0\n",
    "\n",
    "for ids in result:\n",
    "    if count == 3:\n",
    "        continue\n",
    "    count += 1\n",
    "    for mdname in result[ids]:\n",
    "        print(mdname + \": \" + result[ids][mdname])\n",
    "        if mdname == \"longitude\":\n",
    "            data_long = result[ids][mdname]\n",
    "        elif mdname == \"latitude\":\n",
    "            data_lat = result[ids][mdname]\n",
    "    print()"
   ]
  }
 ],
 "metadata": {
  "kernelspec": {
   "display_name": "Python 3",
   "language": "python",
   "name": "python3"
  },
  "language_info": {
   "codemirror_mode": {
    "name": "ipython",
    "version": 3
   },
   "file_extension": ".py",
   "mimetype": "text/x-python",
   "name": "python",
   "nbconvert_exporter": "python",
   "pygments_lexer": "ipython3",
   "version": "3.6.0"
  }
 },
 "nbformat": 4,
 "nbformat_minor": 2
}
